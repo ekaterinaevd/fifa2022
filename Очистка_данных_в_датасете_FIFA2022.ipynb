{
  "nbformat": 4,
  "nbformat_minor": 0,
  "metadata": {
    "colab": {
      "provenance": [],
      "toc_visible": true,
      "include_colab_link": true
    },
    "kernelspec": {
      "name": "python3",
      "display_name": "Python 3"
    },
    "language_info": {
      "name": "python"
    }
  },
  "cells": [
    {
      "cell_type": "markdown",
      "metadata": {
        "id": "view-in-github",
        "colab_type": "text"
      },
      "source": [
        "<a href=\"https://colab.research.google.com/github/ekaterinaevd/fifa2022/blob/main/%D0%9E%D1%87%D0%B8%D1%81%D1%82%D0%BA%D0%B0_%D0%B4%D0%B0%D0%BD%D0%BD%D1%8B%D1%85_%D0%B2_%D0%B4%D0%B0%D1%82%D0%B0%D1%81%D0%B5%D1%82%D0%B5_FIFA2022.ipynb\" target=\"_parent\"><img src=\"https://colab.research.google.com/assets/colab-badge.svg\" alt=\"Open In Colab\"/></a>"
      ]
    },
    {
      "cell_type": "markdown",
      "source": [
        "# Описание датасета"
      ],
      "metadata": {
        "id": "ubl8S6m-Okfm"
      }
    },
    {
      "cell_type": "markdown",
      "source": [
        "![](https://storage.googleapis.com/kaggle-datasets-images/1617785/2659800/c06a7a3de61a874af446f350118ca9ca/dataset-cover.jpg?t=2021-09-28-18-06-09)\n",
        "<br>Представлен датасет с данными об игроках режима «Карьера» компьютерной игры FIFA 2022 (датасет выложен на платформе [Kaggle](https://www.kaggle.com/datasets/stefanoleone992/fifa-22-complete-player-dataset))."
      ],
      "metadata": {
        "id": "ZpY_ynBcRHJP"
      }
    },
    {
      "cell_type": "markdown",
      "source": [
        "**Формат файла** : *csv*"
      ],
      "metadata": {
        "id": "TOpmRX4Vvqme"
      }
    },
    {
      "cell_type": "markdown",
      "source": [
        "**Ссылка на файл** : https://drive.google.com/file/d/1TO3ZFteyoxQ1GQYrs9Y3hDSdhxXDpx1u/view?usp=share_link"
      ],
      "metadata": {
        "id": "d3Viry5eSTw9"
      }
    },
    {
      "cell_type": "markdown",
      "source": [
        "# Обзор датасета. Библиотека Pandas"
      ],
      "metadata": {
        "id": "N-iVm0gwVeje"
      }
    },
    {
      "cell_type": "code",
      "source": [
        "# при ошибке загрузки в текущей версии gdown необходимо его обновить\n",
        "!pip install --upgrade gdown"
      ],
      "metadata": {
        "id": "DAjG5ez-ZZ1y",
        "colab": {
          "base_uri": "https://localhost:8080/"
        },
        "outputId": "8d6bde33-49db-45cc-fad7-d0d4adc5bf2d"
      },
      "execution_count": null,
      "outputs": [
        {
          "output_type": "stream",
          "name": "stdout",
          "text": [
            "Requirement already satisfied: gdown in /usr/local/lib/python3.10/dist-packages (5.2.0)\n",
            "Requirement already satisfied: beautifulsoup4 in /usr/local/lib/python3.10/dist-packages (from gdown) (4.12.3)\n",
            "Requirement already satisfied: filelock in /usr/local/lib/python3.10/dist-packages (from gdown) (3.16.1)\n",
            "Requirement already satisfied: requests[socks] in /usr/local/lib/python3.10/dist-packages (from gdown) (2.32.3)\n",
            "Requirement already satisfied: tqdm in /usr/local/lib/python3.10/dist-packages (from gdown) (4.67.1)\n",
            "Requirement already satisfied: soupsieve>1.2 in /usr/local/lib/python3.10/dist-packages (from beautifulsoup4->gdown) (2.6)\n",
            "Requirement already satisfied: charset-normalizer<4,>=2 in /usr/local/lib/python3.10/dist-packages (from requests[socks]->gdown) (3.4.0)\n",
            "Requirement already satisfied: idna<4,>=2.5 in /usr/local/lib/python3.10/dist-packages (from requests[socks]->gdown) (3.10)\n",
            "Requirement already satisfied: urllib3<3,>=1.21.1 in /usr/local/lib/python3.10/dist-packages (from requests[socks]->gdown) (2.2.3)\n",
            "Requirement already satisfied: certifi>=2017.4.17 in /usr/local/lib/python3.10/dist-packages (from requests[socks]->gdown) (2024.12.14)\n",
            "Requirement already satisfied: PySocks!=1.5.7,>=1.5.6 in /usr/local/lib/python3.10/dist-packages (from requests[socks]->gdown) (1.7.1)\n"
          ]
        }
      ]
    },
    {
      "cell_type": "code",
      "execution_count": null,
      "metadata": {
        "id": "mZFaBGyVO11S",
        "colab": {
          "base_uri": "https://localhost:8080/"
        },
        "outputId": "6daa9b29-01c9-4237-b2d3-8dc33b5981c7"
      },
      "outputs": [
        {
          "output_type": "stream",
          "name": "stdout",
          "text": [
            "usage: gdown [-h] [-V] [-O OUTPUT] [-q] [--fuzzy] [--id] [--proxy PROXY] [--speed SPEED]\n",
            "             [--no-cookies] [--no-check-certificate] [--continue] [--folder] [--remaining-ok]\n",
            "             [--format FORMAT] [--user-agent USER_AGENT]\n",
            "             url_or_id\n",
            "gdown: error: the following arguments are required: url_or_id\n"
          ]
        }
      ],
      "source": [
        "# скачайте датасет с помощью команды !gdown\n",
        "!gdown --id"
      ]
    },
    {
      "cell_type": "code",
      "source": [
        "# импортируйте библиотеку pandas\n",
        "import pandas as pd"
      ],
      "metadata": {
        "id": "oFiDlt-tTJqK"
      },
      "execution_count": null,
      "outputs": []
    },
    {
      "cell_type": "code",
      "source": [
        "# прочитайте датасет и сохраните его в переменную\n",
        "df = pd.read_csv('players_22 (1).csv')"
      ],
      "metadata": {
        "id": "7q_PjhIpS6kJ",
        "colab": {
          "base_uri": "https://localhost:8080/"
        },
        "outputId": "ecd353ef-aab5-4d3a-9fbb-426b842834f9"
      },
      "execution_count": null,
      "outputs": [
        {
          "output_type": "stream",
          "name": "stderr",
          "text": [
            "<ipython-input-51-5ddbbbad4b2d>:2: DtypeWarning: Columns (25,108) have mixed types. Specify dtype option on import or set low_memory=False.\n",
            "  df = pd.read_csv('players_22 (1).csv')\n"
          ]
        }
      ]
    },
    {
      "cell_type": "code",
      "source": [
        "# проведите визуальный обзор датасета\n",
        "df.head()"
      ],
      "metadata": {
        "id": "jeUuSYrhTRGL",
        "colab": {
          "base_uri": "https://localhost:8080/",
          "height": 429
        },
        "outputId": "fba91d76-72d5-4879-888f-e01bfa1b255f"
      },
      "execution_count": null,
      "outputs": [
        {
          "output_type": "execute_result",
          "data": {
            "text/plain": [
              "   sofifa_id                                         player_url  \\\n",
              "0     158023  https://sofifa.com/player/158023/lionel-messi/...   \n",
              "1     188545  https://sofifa.com/player/188545/robert-lewand...   \n",
              "2      20801  https://sofifa.com/player/20801/c-ronaldo-dos-...   \n",
              "3     190871  https://sofifa.com/player/190871/neymar-da-sil...   \n",
              "4     192985  https://sofifa.com/player/192985/kevin-de-bruy...   \n",
              "\n",
              "          short_name                            long_name player_positions  \\\n",
              "0           L. Messi       Lionel Andrés Messi Cuccittini       RW, ST, CF   \n",
              "1     R. Lewandowski                   Robert Lewandowski               ST   \n",
              "2  Cristiano Ronaldo  Cristiano Ronaldo dos Santos Aveiro           ST, LW   \n",
              "3          Neymar Jr        Neymar da Silva Santos Júnior          LW, CAM   \n",
              "4       K. De Bruyne                      Kevin De Bruyne          CM, CAM   \n",
              "\n",
              "   overall  potential    value_eur  wage_eur  age  ...   lcb    cb   rcb  \\\n",
              "0       93         93   78000000.0  320000.0   34  ...  50+3  50+3  50+3   \n",
              "1       92         92  119500000.0  270000.0   32  ...  60+3  60+3  60+3   \n",
              "2       91         91   45000000.0  270000.0   36  ...  53+3  53+3  53+3   \n",
              "3       91         91  129000000.0  270000.0   29  ...  50+3  50+3  50+3   \n",
              "4       91         91  125500000.0  350000.0   30  ...  69+3  69+3  69+3   \n",
              "\n",
              "     rb    gk                                    player_face_url  \\\n",
              "0  61+3  19+3  https://cdn.sofifa.net/players/158/023/22_120.png   \n",
              "1  61+3  19+3  https://cdn.sofifa.net/players/188/545/22_120.png   \n",
              "2  60+3  20+3  https://cdn.sofifa.net/players/020/801/22_120.png   \n",
              "3  62+3  20+3  https://cdn.sofifa.net/players/190/871/22_120.png   \n",
              "4  75+3  21+3  https://cdn.sofifa.net/players/192/985/22_120.png   \n",
              "\n",
              "                            club_logo_url  \\\n",
              "0  https://cdn.sofifa.net/teams/73/60.png   \n",
              "1  https://cdn.sofifa.net/teams/21/60.png   \n",
              "2  https://cdn.sofifa.net/teams/11/60.png   \n",
              "3  https://cdn.sofifa.net/teams/73/60.png   \n",
              "4  https://cdn.sofifa.net/teams/10/60.png   \n",
              "\n",
              "                             club_flag_url  \\\n",
              "0      https://cdn.sofifa.net/flags/fr.png   \n",
              "1      https://cdn.sofifa.net/flags/de.png   \n",
              "2  https://cdn.sofifa.net/flags/gb-eng.png   \n",
              "3      https://cdn.sofifa.net/flags/fr.png   \n",
              "4  https://cdn.sofifa.net/flags/gb-eng.png   \n",
              "\n",
              "                            nation_logo_url  \\\n",
              "0  https://cdn.sofifa.net/teams/1369/60.png   \n",
              "1  https://cdn.sofifa.net/teams/1353/60.png   \n",
              "2  https://cdn.sofifa.net/teams/1354/60.png   \n",
              "3                                       NaN   \n",
              "4  https://cdn.sofifa.net/teams/1325/60.png   \n",
              "\n",
              "                       nation_flag_url  \n",
              "0  https://cdn.sofifa.net/flags/ar.png  \n",
              "1  https://cdn.sofifa.net/flags/pl.png  \n",
              "2  https://cdn.sofifa.net/flags/pt.png  \n",
              "3  https://cdn.sofifa.net/flags/br.png  \n",
              "4  https://cdn.sofifa.net/flags/be.png  \n",
              "\n",
              "[5 rows x 110 columns]"
            ],
            "text/html": [
              "\n",
              "  <div id=\"df-57dec623-6889-4062-9f22-57c9fc7b1321\" class=\"colab-df-container\">\n",
              "    <div>\n",
              "<style scoped>\n",
              "    .dataframe tbody tr th:only-of-type {\n",
              "        vertical-align: middle;\n",
              "    }\n",
              "\n",
              "    .dataframe tbody tr th {\n",
              "        vertical-align: top;\n",
              "    }\n",
              "\n",
              "    .dataframe thead th {\n",
              "        text-align: right;\n",
              "    }\n",
              "</style>\n",
              "<table border=\"1\" class=\"dataframe\">\n",
              "  <thead>\n",
              "    <tr style=\"text-align: right;\">\n",
              "      <th></th>\n",
              "      <th>sofifa_id</th>\n",
              "      <th>player_url</th>\n",
              "      <th>short_name</th>\n",
              "      <th>long_name</th>\n",
              "      <th>player_positions</th>\n",
              "      <th>overall</th>\n",
              "      <th>potential</th>\n",
              "      <th>value_eur</th>\n",
              "      <th>wage_eur</th>\n",
              "      <th>age</th>\n",
              "      <th>...</th>\n",
              "      <th>lcb</th>\n",
              "      <th>cb</th>\n",
              "      <th>rcb</th>\n",
              "      <th>rb</th>\n",
              "      <th>gk</th>\n",
              "      <th>player_face_url</th>\n",
              "      <th>club_logo_url</th>\n",
              "      <th>club_flag_url</th>\n",
              "      <th>nation_logo_url</th>\n",
              "      <th>nation_flag_url</th>\n",
              "    </tr>\n",
              "  </thead>\n",
              "  <tbody>\n",
              "    <tr>\n",
              "      <th>0</th>\n",
              "      <td>158023</td>\n",
              "      <td>https://sofifa.com/player/158023/lionel-messi/...</td>\n",
              "      <td>L. Messi</td>\n",
              "      <td>Lionel Andrés Messi Cuccittini</td>\n",
              "      <td>RW, ST, CF</td>\n",
              "      <td>93</td>\n",
              "      <td>93</td>\n",
              "      <td>78000000.0</td>\n",
              "      <td>320000.0</td>\n",
              "      <td>34</td>\n",
              "      <td>...</td>\n",
              "      <td>50+3</td>\n",
              "      <td>50+3</td>\n",
              "      <td>50+3</td>\n",
              "      <td>61+3</td>\n",
              "      <td>19+3</td>\n",
              "      <td>https://cdn.sofifa.net/players/158/023/22_120.png</td>\n",
              "      <td>https://cdn.sofifa.net/teams/73/60.png</td>\n",
              "      <td>https://cdn.sofifa.net/flags/fr.png</td>\n",
              "      <td>https://cdn.sofifa.net/teams/1369/60.png</td>\n",
              "      <td>https://cdn.sofifa.net/flags/ar.png</td>\n",
              "    </tr>\n",
              "    <tr>\n",
              "      <th>1</th>\n",
              "      <td>188545</td>\n",
              "      <td>https://sofifa.com/player/188545/robert-lewand...</td>\n",
              "      <td>R. Lewandowski</td>\n",
              "      <td>Robert Lewandowski</td>\n",
              "      <td>ST</td>\n",
              "      <td>92</td>\n",
              "      <td>92</td>\n",
              "      <td>119500000.0</td>\n",
              "      <td>270000.0</td>\n",
              "      <td>32</td>\n",
              "      <td>...</td>\n",
              "      <td>60+3</td>\n",
              "      <td>60+3</td>\n",
              "      <td>60+3</td>\n",
              "      <td>61+3</td>\n",
              "      <td>19+3</td>\n",
              "      <td>https://cdn.sofifa.net/players/188/545/22_120.png</td>\n",
              "      <td>https://cdn.sofifa.net/teams/21/60.png</td>\n",
              "      <td>https://cdn.sofifa.net/flags/de.png</td>\n",
              "      <td>https://cdn.sofifa.net/teams/1353/60.png</td>\n",
              "      <td>https://cdn.sofifa.net/flags/pl.png</td>\n",
              "    </tr>\n",
              "    <tr>\n",
              "      <th>2</th>\n",
              "      <td>20801</td>\n",
              "      <td>https://sofifa.com/player/20801/c-ronaldo-dos-...</td>\n",
              "      <td>Cristiano Ronaldo</td>\n",
              "      <td>Cristiano Ronaldo dos Santos Aveiro</td>\n",
              "      <td>ST, LW</td>\n",
              "      <td>91</td>\n",
              "      <td>91</td>\n",
              "      <td>45000000.0</td>\n",
              "      <td>270000.0</td>\n",
              "      <td>36</td>\n",
              "      <td>...</td>\n",
              "      <td>53+3</td>\n",
              "      <td>53+3</td>\n",
              "      <td>53+3</td>\n",
              "      <td>60+3</td>\n",
              "      <td>20+3</td>\n",
              "      <td>https://cdn.sofifa.net/players/020/801/22_120.png</td>\n",
              "      <td>https://cdn.sofifa.net/teams/11/60.png</td>\n",
              "      <td>https://cdn.sofifa.net/flags/gb-eng.png</td>\n",
              "      <td>https://cdn.sofifa.net/teams/1354/60.png</td>\n",
              "      <td>https://cdn.sofifa.net/flags/pt.png</td>\n",
              "    </tr>\n",
              "    <tr>\n",
              "      <th>3</th>\n",
              "      <td>190871</td>\n",
              "      <td>https://sofifa.com/player/190871/neymar-da-sil...</td>\n",
              "      <td>Neymar Jr</td>\n",
              "      <td>Neymar da Silva Santos Júnior</td>\n",
              "      <td>LW, CAM</td>\n",
              "      <td>91</td>\n",
              "      <td>91</td>\n",
              "      <td>129000000.0</td>\n",
              "      <td>270000.0</td>\n",
              "      <td>29</td>\n",
              "      <td>...</td>\n",
              "      <td>50+3</td>\n",
              "      <td>50+3</td>\n",
              "      <td>50+3</td>\n",
              "      <td>62+3</td>\n",
              "      <td>20+3</td>\n",
              "      <td>https://cdn.sofifa.net/players/190/871/22_120.png</td>\n",
              "      <td>https://cdn.sofifa.net/teams/73/60.png</td>\n",
              "      <td>https://cdn.sofifa.net/flags/fr.png</td>\n",
              "      <td>NaN</td>\n",
              "      <td>https://cdn.sofifa.net/flags/br.png</td>\n",
              "    </tr>\n",
              "    <tr>\n",
              "      <th>4</th>\n",
              "      <td>192985</td>\n",
              "      <td>https://sofifa.com/player/192985/kevin-de-bruy...</td>\n",
              "      <td>K. De Bruyne</td>\n",
              "      <td>Kevin De Bruyne</td>\n",
              "      <td>CM, CAM</td>\n",
              "      <td>91</td>\n",
              "      <td>91</td>\n",
              "      <td>125500000.0</td>\n",
              "      <td>350000.0</td>\n",
              "      <td>30</td>\n",
              "      <td>...</td>\n",
              "      <td>69+3</td>\n",
              "      <td>69+3</td>\n",
              "      <td>69+3</td>\n",
              "      <td>75+3</td>\n",
              "      <td>21+3</td>\n",
              "      <td>https://cdn.sofifa.net/players/192/985/22_120.png</td>\n",
              "      <td>https://cdn.sofifa.net/teams/10/60.png</td>\n",
              "      <td>https://cdn.sofifa.net/flags/gb-eng.png</td>\n",
              "      <td>https://cdn.sofifa.net/teams/1325/60.png</td>\n",
              "      <td>https://cdn.sofifa.net/flags/be.png</td>\n",
              "    </tr>\n",
              "  </tbody>\n",
              "</table>\n",
              "<p>5 rows × 110 columns</p>\n",
              "</div>\n",
              "    <div class=\"colab-df-buttons\">\n",
              "\n",
              "  <div class=\"colab-df-container\">\n",
              "    <button class=\"colab-df-convert\" onclick=\"convertToInteractive('df-57dec623-6889-4062-9f22-57c9fc7b1321')\"\n",
              "            title=\"Convert this dataframe to an interactive table.\"\n",
              "            style=\"display:none;\">\n",
              "\n",
              "  <svg xmlns=\"http://www.w3.org/2000/svg\" height=\"24px\" viewBox=\"0 -960 960 960\">\n",
              "    <path d=\"M120-120v-720h720v720H120Zm60-500h600v-160H180v160Zm220 220h160v-160H400v160Zm0 220h160v-160H400v160ZM180-400h160v-160H180v160Zm440 0h160v-160H620v160ZM180-180h160v-160H180v160Zm440 0h160v-160H620v160Z\"/>\n",
              "  </svg>\n",
              "    </button>\n",
              "\n",
              "  <style>\n",
              "    .colab-df-container {\n",
              "      display:flex;\n",
              "      gap: 12px;\n",
              "    }\n",
              "\n",
              "    .colab-df-convert {\n",
              "      background-color: #E8F0FE;\n",
              "      border: none;\n",
              "      border-radius: 50%;\n",
              "      cursor: pointer;\n",
              "      display: none;\n",
              "      fill: #1967D2;\n",
              "      height: 32px;\n",
              "      padding: 0 0 0 0;\n",
              "      width: 32px;\n",
              "    }\n",
              "\n",
              "    .colab-df-convert:hover {\n",
              "      background-color: #E2EBFA;\n",
              "      box-shadow: 0px 1px 2px rgba(60, 64, 67, 0.3), 0px 1px 3px 1px rgba(60, 64, 67, 0.15);\n",
              "      fill: #174EA6;\n",
              "    }\n",
              "\n",
              "    .colab-df-buttons div {\n",
              "      margin-bottom: 4px;\n",
              "    }\n",
              "\n",
              "    [theme=dark] .colab-df-convert {\n",
              "      background-color: #3B4455;\n",
              "      fill: #D2E3FC;\n",
              "    }\n",
              "\n",
              "    [theme=dark] .colab-df-convert:hover {\n",
              "      background-color: #434B5C;\n",
              "      box-shadow: 0px 1px 3px 1px rgba(0, 0, 0, 0.15);\n",
              "      filter: drop-shadow(0px 1px 2px rgba(0, 0, 0, 0.3));\n",
              "      fill: #FFFFFF;\n",
              "    }\n",
              "  </style>\n",
              "\n",
              "    <script>\n",
              "      const buttonEl =\n",
              "        document.querySelector('#df-57dec623-6889-4062-9f22-57c9fc7b1321 button.colab-df-convert');\n",
              "      buttonEl.style.display =\n",
              "        google.colab.kernel.accessAllowed ? 'block' : 'none';\n",
              "\n",
              "      async function convertToInteractive(key) {\n",
              "        const element = document.querySelector('#df-57dec623-6889-4062-9f22-57c9fc7b1321');\n",
              "        const dataTable =\n",
              "          await google.colab.kernel.invokeFunction('convertToInteractive',\n",
              "                                                    [key], {});\n",
              "        if (!dataTable) return;\n",
              "\n",
              "        const docLinkHtml = 'Like what you see? Visit the ' +\n",
              "          '<a target=\"_blank\" href=https://colab.research.google.com/notebooks/data_table.ipynb>data table notebook</a>'\n",
              "          + ' to learn more about interactive tables.';\n",
              "        element.innerHTML = '';\n",
              "        dataTable['output_type'] = 'display_data';\n",
              "        await google.colab.output.renderOutput(dataTable, element);\n",
              "        const docLink = document.createElement('div');\n",
              "        docLink.innerHTML = docLinkHtml;\n",
              "        element.appendChild(docLink);\n",
              "      }\n",
              "    </script>\n",
              "  </div>\n",
              "\n",
              "\n",
              "<div id=\"df-0f3820f3-946c-477a-89bb-503ae96230cd\">\n",
              "  <button class=\"colab-df-quickchart\" onclick=\"quickchart('df-0f3820f3-946c-477a-89bb-503ae96230cd')\"\n",
              "            title=\"Suggest charts\"\n",
              "            style=\"display:none;\">\n",
              "\n",
              "<svg xmlns=\"http://www.w3.org/2000/svg\" height=\"24px\"viewBox=\"0 0 24 24\"\n",
              "     width=\"24px\">\n",
              "    <g>\n",
              "        <path d=\"M19 3H5c-1.1 0-2 .9-2 2v14c0 1.1.9 2 2 2h14c1.1 0 2-.9 2-2V5c0-1.1-.9-2-2-2zM9 17H7v-7h2v7zm4 0h-2V7h2v10zm4 0h-2v-4h2v4z\"/>\n",
              "    </g>\n",
              "</svg>\n",
              "  </button>\n",
              "\n",
              "<style>\n",
              "  .colab-df-quickchart {\n",
              "      --bg-color: #E8F0FE;\n",
              "      --fill-color: #1967D2;\n",
              "      --hover-bg-color: #E2EBFA;\n",
              "      --hover-fill-color: #174EA6;\n",
              "      --disabled-fill-color: #AAA;\n",
              "      --disabled-bg-color: #DDD;\n",
              "  }\n",
              "\n",
              "  [theme=dark] .colab-df-quickchart {\n",
              "      --bg-color: #3B4455;\n",
              "      --fill-color: #D2E3FC;\n",
              "      --hover-bg-color: #434B5C;\n",
              "      --hover-fill-color: #FFFFFF;\n",
              "      --disabled-bg-color: #3B4455;\n",
              "      --disabled-fill-color: #666;\n",
              "  }\n",
              "\n",
              "  .colab-df-quickchart {\n",
              "    background-color: var(--bg-color);\n",
              "    border: none;\n",
              "    border-radius: 50%;\n",
              "    cursor: pointer;\n",
              "    display: none;\n",
              "    fill: var(--fill-color);\n",
              "    height: 32px;\n",
              "    padding: 0;\n",
              "    width: 32px;\n",
              "  }\n",
              "\n",
              "  .colab-df-quickchart:hover {\n",
              "    background-color: var(--hover-bg-color);\n",
              "    box-shadow: 0 1px 2px rgba(60, 64, 67, 0.3), 0 1px 3px 1px rgba(60, 64, 67, 0.15);\n",
              "    fill: var(--button-hover-fill-color);\n",
              "  }\n",
              "\n",
              "  .colab-df-quickchart-complete:disabled,\n",
              "  .colab-df-quickchart-complete:disabled:hover {\n",
              "    background-color: var(--disabled-bg-color);\n",
              "    fill: var(--disabled-fill-color);\n",
              "    box-shadow: none;\n",
              "  }\n",
              "\n",
              "  .colab-df-spinner {\n",
              "    border: 2px solid var(--fill-color);\n",
              "    border-color: transparent;\n",
              "    border-bottom-color: var(--fill-color);\n",
              "    animation:\n",
              "      spin 1s steps(1) infinite;\n",
              "  }\n",
              "\n",
              "  @keyframes spin {\n",
              "    0% {\n",
              "      border-color: transparent;\n",
              "      border-bottom-color: var(--fill-color);\n",
              "      border-left-color: var(--fill-color);\n",
              "    }\n",
              "    20% {\n",
              "      border-color: transparent;\n",
              "      border-left-color: var(--fill-color);\n",
              "      border-top-color: var(--fill-color);\n",
              "    }\n",
              "    30% {\n",
              "      border-color: transparent;\n",
              "      border-left-color: var(--fill-color);\n",
              "      border-top-color: var(--fill-color);\n",
              "      border-right-color: var(--fill-color);\n",
              "    }\n",
              "    40% {\n",
              "      border-color: transparent;\n",
              "      border-right-color: var(--fill-color);\n",
              "      border-top-color: var(--fill-color);\n",
              "    }\n",
              "    60% {\n",
              "      border-color: transparent;\n",
              "      border-right-color: var(--fill-color);\n",
              "    }\n",
              "    80% {\n",
              "      border-color: transparent;\n",
              "      border-right-color: var(--fill-color);\n",
              "      border-bottom-color: var(--fill-color);\n",
              "    }\n",
              "    90% {\n",
              "      border-color: transparent;\n",
              "      border-bottom-color: var(--fill-color);\n",
              "    }\n",
              "  }\n",
              "</style>\n",
              "\n",
              "  <script>\n",
              "    async function quickchart(key) {\n",
              "      const quickchartButtonEl =\n",
              "        document.querySelector('#' + key + ' button');\n",
              "      quickchartButtonEl.disabled = true;  // To prevent multiple clicks.\n",
              "      quickchartButtonEl.classList.add('colab-df-spinner');\n",
              "      try {\n",
              "        const charts = await google.colab.kernel.invokeFunction(\n",
              "            'suggestCharts', [key], {});\n",
              "      } catch (error) {\n",
              "        console.error('Error during call to suggestCharts:', error);\n",
              "      }\n",
              "      quickchartButtonEl.classList.remove('colab-df-spinner');\n",
              "      quickchartButtonEl.classList.add('colab-df-quickchart-complete');\n",
              "    }\n",
              "    (() => {\n",
              "      let quickchartButtonEl =\n",
              "        document.querySelector('#df-0f3820f3-946c-477a-89bb-503ae96230cd button');\n",
              "      quickchartButtonEl.style.display =\n",
              "        google.colab.kernel.accessAllowed ? 'block' : 'none';\n",
              "    })();\n",
              "  </script>\n",
              "</div>\n",
              "\n",
              "    </div>\n",
              "  </div>\n"
            ],
            "application/vnd.google.colaboratory.intrinsic+json": {
              "type": "dataframe",
              "variable_name": "df"
            }
          },
          "metadata": {},
          "execution_count": 52
        }
      ]
    },
    {
      "cell_type": "code",
      "source": [
        "# определите количество ячеек в датафрейме (строки X столбцы)\n",
        "df.size"
      ],
      "metadata": {
        "id": "HqReIiUwTTAg",
        "colab": {
          "base_uri": "https://localhost:8080/"
        },
        "outputId": "3ca7849a-2707-4aed-9fa2-54100f620f21"
      },
      "execution_count": null,
      "outputs": [
        {
          "output_type": "execute_result",
          "data": {
            "text/plain": [
              "2116290"
            ]
          },
          "metadata": {},
          "execution_count": 53
        }
      ]
    },
    {
      "cell_type": "code",
      "source": [
        "# определите количество наблюдений в датафрейме\n",
        "len(df)"
      ],
      "metadata": {
        "id": "nfOoW2hsUZgZ",
        "colab": {
          "base_uri": "https://localhost:8080/"
        },
        "outputId": "9cd9afaa-603f-4d6a-971a-44268cf876a9"
      },
      "execution_count": null,
      "outputs": [
        {
          "output_type": "execute_result",
          "data": {
            "text/plain": [
              "19239"
            ]
          },
          "metadata": {},
          "execution_count": 54
        }
      ]
    },
    {
      "cell_type": "code",
      "source": [
        "# определите количество признаков в датафрейме\n",
        "len(df.axes[1])"
      ],
      "metadata": {
        "id": "ezVvMlbsUQQP",
        "colab": {
          "base_uri": "https://localhost:8080/"
        },
        "outputId": "37ec4d32-0445-425e-d3f9-bda62e5084c1"
      },
      "execution_count": null,
      "outputs": [
        {
          "output_type": "execute_result",
          "data": {
            "text/plain": [
              "110"
            ]
          },
          "metadata": {},
          "execution_count": 55
        }
      ]
    },
    {
      "cell_type": "code",
      "source": [
        "# определите тип данных по признаку 'wage_eur'\n",
        "print(type(df['wage_eur']))"
      ],
      "metadata": {
        "id": "8oI1LtMIUfvh",
        "colab": {
          "base_uri": "https://localhost:8080/"
        },
        "outputId": "4a76ba60-4657-44b6-e431-c9430169f52c"
      },
      "execution_count": null,
      "outputs": [
        {
          "output_type": "stream",
          "name": "stdout",
          "text": [
            "<class 'pandas.core.series.Series'>\n"
          ]
        }
      ]
    },
    {
      "cell_type": "code",
      "source": [
        "print(type(df))"
      ],
      "metadata": {
        "colab": {
          "base_uri": "https://localhost:8080/"
        },
        "id": "WLzTGZf7VbYS",
        "outputId": "e16ed20c-9922-4ece-d14a-b41f4f8a8db3"
      },
      "execution_count": null,
      "outputs": [
        {
          "output_type": "stream",
          "name": "stdout",
          "text": [
            "<class 'pandas.core.frame.DataFrame'>\n"
          ]
        }
      ]
    },
    {
      "cell_type": "markdown",
      "source": [
        "# Исключение признаков, работа с дубликатами"
      ],
      "metadata": {
        "id": "yLwuG12GX7I8"
      }
    },
    {
      "cell_type": "code",
      "source": [
        "# создайте копию датафрейма, сохранив его в переменную df1\n",
        "df1 = df.copy()"
      ],
      "metadata": {
        "id": "QMiIn5GPX7JC"
      },
      "execution_count": null,
      "outputs": []
    },
    {
      "cell_type": "code",
      "source": [
        "# список столбцов, которые необходимо исключить\n",
        "columns = ['club_position',\n",
        " 'club_jersey_number',\n",
        " 'club_loaned_from',\n",
        " 'club_joined',\n",
        " 'club_contract_valid_until',\n",
        " 'nationality_id',\n",
        " 'nationality_name',\n",
        " 'nation_team_id',\n",
        " 'nation_position',\n",
        " 'nation_jersey_number',\n",
        " 'preferred_foot',\n",
        " 'weak_foot',\n",
        " 'skill_moves',\n",
        " 'international_reputation',\n",
        " 'work_rate',\n",
        " 'body_type',\n",
        " 'real_face',\n",
        " 'release_clause_eur',\n",
        " 'player_tags',\n",
        " 'player_traits',\n",
        " 'pace',\n",
        " 'shooting',\n",
        " 'passing',\n",
        " 'dribbling',\n",
        " 'defending',\n",
        " 'physic',\n",
        " 'attacking_crossing',\n",
        " 'attacking_finishing',\n",
        " 'attacking_heading_accuracy',\n",
        " 'attacking_short_passing',\n",
        " 'attacking_volleys',\n",
        " 'skill_dribbling',\n",
        " 'skill_curve',\n",
        " 'skill_fk_accuracy',\n",
        " 'skill_long_passing',\n",
        " 'skill_ball_control',\n",
        " 'movement_acceleration',\n",
        " 'movement_sprint_speed',\n",
        " 'movement_agility',\n",
        " 'movement_reactions',\n",
        " 'movement_balance',\n",
        " 'power_shot_power',\n",
        " 'power_jumping',\n",
        " 'power_stamina',\n",
        " 'power_strength',\n",
        " 'power_long_shots',\n",
        " 'mentality_aggression',\n",
        " 'mentality_interceptions',\n",
        " 'mentality_positioning',\n",
        " 'mentality_vision',\n",
        " 'mentality_penalties',\n",
        " 'mentality_composure',\n",
        " 'defending_marking_awareness',\n",
        " 'defending_standing_tackle',\n",
        " 'defending_sliding_tackle',\n",
        " 'goalkeeping_diving',\n",
        " 'goalkeeping_handling',\n",
        " 'goalkeeping_kicking',\n",
        " 'goalkeeping_positioning',\n",
        " 'goalkeeping_reflexes',\n",
        " 'goalkeeping_speed',\n",
        " 'ls',\n",
        " 'st',\n",
        " 'rs',\n",
        " 'lw',\n",
        " 'lf',\n",
        " 'cf',\n",
        " 'rf',\n",
        " 'rw',\n",
        " 'lam',\n",
        " 'cam',\n",
        " 'ram',\n",
        " 'lm',\n",
        " 'lcm',\n",
        " 'cm',\n",
        " 'rcm',\n",
        " 'rm',\n",
        " 'lwb',\n",
        " 'ldm',\n",
        " 'cdm',\n",
        " 'rdm',\n",
        " 'rwb',\n",
        " 'lb',\n",
        " 'lcb',\n",
        " 'cb',\n",
        " 'rcb',\n",
        " 'rb',\n",
        " 'gk',\n",
        " 'player_face_url',\n",
        " 'club_logo_url',\n",
        " 'club_flag_url',\n",
        " 'nation_logo_url',\n",
        " 'nation_flag_url']"
      ],
      "metadata": {
        "id": "ANq-IMWLb-xl"
      },
      "execution_count": null,
      "outputs": []
    },
    {
      "cell_type": "code",
      "source": [
        "# исключите столбцы списка columns из датафрейма, автоматически перезаписав его\n",
        "df1.drop(columns=columns, inplace=True)"
      ],
      "metadata": {
        "id": "Zu9Gft_qcf47"
      },
      "execution_count": null,
      "outputs": []
    },
    {
      "cell_type": "code",
      "source": [
        "df1['league_name'] = df1['league_name'].str.lower()\n",
        "df1['league_name'].str.contains('russia').sum()"
      ],
      "metadata": {
        "colab": {
          "base_uri": "https://localhost:8080/"
        },
        "id": "jMVehGejaLIf",
        "outputId": "b084934b-91e0-4dea-bda1-5b19b5abd3c1"
      },
      "execution_count": null,
      "outputs": [
        {
          "output_type": "execute_result",
          "data": {
            "text/plain": [
              "82"
            ]
          },
          "metadata": {},
          "execution_count": 64
        }
      ]
    },
    {
      "cell_type": "code",
      "source": [
        "len(df1['league_name'].unique())"
      ],
      "metadata": {
        "colab": {
          "base_uri": "https://localhost:8080/"
        },
        "id": "fHdTQRhPbSL0",
        "outputId": "167f0929-4c90-428a-b40f-d7f12a79be96"
      },
      "execution_count": null,
      "outputs": [
        {
          "output_type": "execute_result",
          "data": {
            "text/plain": [
              "56"
            ]
          },
          "metadata": {},
          "execution_count": 65
        }
      ]
    },
    {
      "cell_type": "code",
      "source": [
        "df1['player_positions'] = df1['player_positions'].apply(lambda x: x.split(', '))\n",
        " #.apply(lambda x: str(x).split() if pd.notnull(x) else x)\n",
        "df1['player_positions_code'] = df1['player_positions'].apply(\n",
        "    lambda position: 0 if len(position) == 1 else 1\n",
        "    )\n",
        "#for position in df1['player_positions']:\n",
        " # if len(position_list) == 1:\n",
        "  #  df1['player_positions_code'] = 0\n",
        "#  else: df1['player_positions_code'] = 1\n",
        "df1['player_positions_code']"
      ],
      "metadata": {
        "colab": {
          "base_uri": "https://localhost:8080/",
          "height": 458
        },
        "id": "gGnMTQlscQSn",
        "outputId": "135ef0c1-13c2-4096-c186-29486fd0349e"
      },
      "execution_count": null,
      "outputs": [
        {
          "output_type": "execute_result",
          "data": {
            "text/plain": [
              "0        1\n",
              "1        0\n",
              "2        1\n",
              "3        1\n",
              "4        1\n",
              "        ..\n",
              "19234    0\n",
              "19235    0\n",
              "19236    0\n",
              "19237    0\n",
              "19238    0\n",
              "Name: player_positions_code, Length: 19239, dtype: int64"
            ],
            "text/html": [
              "<div>\n",
              "<style scoped>\n",
              "    .dataframe tbody tr th:only-of-type {\n",
              "        vertical-align: middle;\n",
              "    }\n",
              "\n",
              "    .dataframe tbody tr th {\n",
              "        vertical-align: top;\n",
              "    }\n",
              "\n",
              "    .dataframe thead th {\n",
              "        text-align: right;\n",
              "    }\n",
              "</style>\n",
              "<table border=\"1\" class=\"dataframe\">\n",
              "  <thead>\n",
              "    <tr style=\"text-align: right;\">\n",
              "      <th></th>\n",
              "      <th>player_positions_code</th>\n",
              "    </tr>\n",
              "  </thead>\n",
              "  <tbody>\n",
              "    <tr>\n",
              "      <th>0</th>\n",
              "      <td>1</td>\n",
              "    </tr>\n",
              "    <tr>\n",
              "      <th>1</th>\n",
              "      <td>0</td>\n",
              "    </tr>\n",
              "    <tr>\n",
              "      <th>2</th>\n",
              "      <td>1</td>\n",
              "    </tr>\n",
              "    <tr>\n",
              "      <th>3</th>\n",
              "      <td>1</td>\n",
              "    </tr>\n",
              "    <tr>\n",
              "      <th>4</th>\n",
              "      <td>1</td>\n",
              "    </tr>\n",
              "    <tr>\n",
              "      <th>...</th>\n",
              "      <td>...</td>\n",
              "    </tr>\n",
              "    <tr>\n",
              "      <th>19234</th>\n",
              "      <td>0</td>\n",
              "    </tr>\n",
              "    <tr>\n",
              "      <th>19235</th>\n",
              "      <td>0</td>\n",
              "    </tr>\n",
              "    <tr>\n",
              "      <th>19236</th>\n",
              "      <td>0</td>\n",
              "    </tr>\n",
              "    <tr>\n",
              "      <th>19237</th>\n",
              "      <td>0</td>\n",
              "    </tr>\n",
              "    <tr>\n",
              "      <th>19238</th>\n",
              "      <td>0</td>\n",
              "    </tr>\n",
              "  </tbody>\n",
              "</table>\n",
              "<p>19239 rows × 1 columns</p>\n",
              "</div><br><label><b>dtype:</b> int64</label>"
            ]
          },
          "metadata": {},
          "execution_count": 66
        }
      ]
    },
    {
      "cell_type": "code",
      "source": [
        "player_positions_dict = {0: 'one', 1: 'several'}\n",
        "df1['player_positions_category'] = df1.player_positions_code.apply(lambda x: player_positions_dict[x])"
      ],
      "metadata": {
        "id": "p3rYvqAAcToH"
      },
      "execution_count": null,
      "outputs": []
    },
    {
      "cell_type": "code",
      "source": [
        "df1['player_positions_category'].apply(lambda x: True if x == 'several' else False).sum()"
      ],
      "metadata": {
        "id": "Qd-vyhjfchYd",
        "outputId": "0a635ed0-ccfe-4407-d1be-b5a774da08f6",
        "colab": {
          "base_uri": "https://localhost:8080/"
        }
      },
      "execution_count": null,
      "outputs": [
        {
          "output_type": "execute_result",
          "data": {
            "text/plain": [
              "9809"
            ]
          },
          "metadata": {},
          "execution_count": 68
        }
      ]
    },
    {
      "cell_type": "code",
      "source": [
        "# определите количество признаков в датафрейме\n",
        "len(df1.axes[1])"
      ],
      "metadata": {
        "id": "-psgJj5LctJO",
        "colab": {
          "base_uri": "https://localhost:8080/"
        },
        "outputId": "51acaa74-a496-4757-a761-7dca8e3929a6"
      },
      "execution_count": null,
      "outputs": [
        {
          "output_type": "execute_result",
          "data": {
            "text/plain": [
              "17"
            ]
          },
          "metadata": {},
          "execution_count": 17
        }
      ]
    },
    {
      "cell_type": "code",
      "source": [
        "# определите количество \"полных\" дубликатов\n",
        "# (именно повторно встречающихся записей, первые записи не помечаются)\n",
        "df1.duplicated(keep='first').sum()"
      ],
      "metadata": {
        "id": "hT9i2GZAc4Dl",
        "colab": {
          "base_uri": "https://localhost:8080/"
        },
        "outputId": "4e9e344e-25a4-4244-be68-d8813fdcb728"
      },
      "execution_count": null,
      "outputs": [
        {
          "output_type": "execute_result",
          "data": {
            "text/plain": [
              "0"
            ]
          },
          "metadata": {},
          "execution_count": 18
        }
      ]
    },
    {
      "cell_type": "code",
      "source": [
        "# определите количество дубликатов по признакам 'short_name' и 'age' (при условии совпадения значений по обоим признакам)\n",
        "# (именно повторно встречающихся записей, первые записи не помечаются)\n",
        "df1.duplicated(subset=['short_name', 'age'], keep='first').sum()"
      ],
      "metadata": {
        "id": "1Paqq-y0c6NT",
        "colab": {
          "base_uri": "https://localhost:8080/"
        },
        "outputId": "8f223eae-e12e-4fa1-d7d9-709f51906690"
      },
      "execution_count": null,
      "outputs": [
        {
          "output_type": "execute_result",
          "data": {
            "text/plain": [
              "95"
            ]
          },
          "metadata": {},
          "execution_count": 19
        }
      ]
    },
    {
      "cell_type": "code",
      "source": [
        "# исключите все записи, по которым совпадают значения по признакам 'long_name' и 'club_name'\n",
        "# (автоматически перезапишите датафрейм)\n",
        "df1.drop_duplicates(subset=['long_name', 'club_name'], keep=False, inplace=True)"
      ],
      "metadata": {
        "id": "iD9NSJIjeTMM"
      },
      "execution_count": null,
      "outputs": []
    },
    {
      "cell_type": "code",
      "source": [
        "# определите количество записей после исключения дубликатов\n",
        "df1.shape"
      ],
      "metadata": {
        "id": "MVmc-kXEfmln",
        "colab": {
          "base_uri": "https://localhost:8080/"
        },
        "outputId": "db61b9ad-e42d-4ef2-97ee-41c87cddf225"
      },
      "execution_count": null,
      "outputs": [
        {
          "output_type": "execute_result",
          "data": {
            "text/plain": [
              "(19233, 17)"
            ]
          },
          "metadata": {},
          "execution_count": 21
        }
      ]
    },
    {
      "cell_type": "markdown",
      "source": [
        "# Работа с пропусками"
      ],
      "metadata": {
        "id": "aYbhjsqTjE6Y"
      }
    },
    {
      "cell_type": "code",
      "source": [
        "# определите, по каким признакам присутствуют пропущенные значения\n",
        "df1.isna().sum()"
      ],
      "metadata": {
        "id": "qxYjkHnolif4",
        "colab": {
          "base_uri": "https://localhost:8080/",
          "height": 617
        },
        "outputId": "b2c0cb98-3faf-40a5-dbc9-dc5710244bec"
      },
      "execution_count": null,
      "outputs": [
        {
          "output_type": "execute_result",
          "data": {
            "text/plain": [
              "sofifa_id            0\n",
              "player_url           0\n",
              "short_name           0\n",
              "long_name            0\n",
              "player_positions     0\n",
              "overall              0\n",
              "potential            0\n",
              "value_eur           74\n",
              "wage_eur            61\n",
              "age                  0\n",
              "dob                  0\n",
              "height_cm            0\n",
              "weight_kg            0\n",
              "club_team_id        61\n",
              "club_name           61\n",
              "league_name         61\n",
              "league_level        61\n",
              "dtype: int64"
            ],
            "text/html": [
              "<div>\n",
              "<style scoped>\n",
              "    .dataframe tbody tr th:only-of-type {\n",
              "        vertical-align: middle;\n",
              "    }\n",
              "\n",
              "    .dataframe tbody tr th {\n",
              "        vertical-align: top;\n",
              "    }\n",
              "\n",
              "    .dataframe thead th {\n",
              "        text-align: right;\n",
              "    }\n",
              "</style>\n",
              "<table border=\"1\" class=\"dataframe\">\n",
              "  <thead>\n",
              "    <tr style=\"text-align: right;\">\n",
              "      <th></th>\n",
              "      <th>0</th>\n",
              "    </tr>\n",
              "  </thead>\n",
              "  <tbody>\n",
              "    <tr>\n",
              "      <th>sofifa_id</th>\n",
              "      <td>0</td>\n",
              "    </tr>\n",
              "    <tr>\n",
              "      <th>player_url</th>\n",
              "      <td>0</td>\n",
              "    </tr>\n",
              "    <tr>\n",
              "      <th>short_name</th>\n",
              "      <td>0</td>\n",
              "    </tr>\n",
              "    <tr>\n",
              "      <th>long_name</th>\n",
              "      <td>0</td>\n",
              "    </tr>\n",
              "    <tr>\n",
              "      <th>player_positions</th>\n",
              "      <td>0</td>\n",
              "    </tr>\n",
              "    <tr>\n",
              "      <th>overall</th>\n",
              "      <td>0</td>\n",
              "    </tr>\n",
              "    <tr>\n",
              "      <th>potential</th>\n",
              "      <td>0</td>\n",
              "    </tr>\n",
              "    <tr>\n",
              "      <th>value_eur</th>\n",
              "      <td>74</td>\n",
              "    </tr>\n",
              "    <tr>\n",
              "      <th>wage_eur</th>\n",
              "      <td>61</td>\n",
              "    </tr>\n",
              "    <tr>\n",
              "      <th>age</th>\n",
              "      <td>0</td>\n",
              "    </tr>\n",
              "    <tr>\n",
              "      <th>dob</th>\n",
              "      <td>0</td>\n",
              "    </tr>\n",
              "    <tr>\n",
              "      <th>height_cm</th>\n",
              "      <td>0</td>\n",
              "    </tr>\n",
              "    <tr>\n",
              "      <th>weight_kg</th>\n",
              "      <td>0</td>\n",
              "    </tr>\n",
              "    <tr>\n",
              "      <th>club_team_id</th>\n",
              "      <td>61</td>\n",
              "    </tr>\n",
              "    <tr>\n",
              "      <th>club_name</th>\n",
              "      <td>61</td>\n",
              "    </tr>\n",
              "    <tr>\n",
              "      <th>league_name</th>\n",
              "      <td>61</td>\n",
              "    </tr>\n",
              "    <tr>\n",
              "      <th>league_level</th>\n",
              "      <td>61</td>\n",
              "    </tr>\n",
              "  </tbody>\n",
              "</table>\n",
              "</div><br><label><b>dtype:</b> int64</label>"
            ]
          },
          "metadata": {},
          "execution_count": 22
        }
      ]
    },
    {
      "cell_type": "code",
      "source": [
        "# определите процент пропусков по признаку 'value_eur'\n",
        "df1['value_eur'].isnull().mean()*100"
      ],
      "metadata": {
        "id": "-3BD8fz6jE6i",
        "colab": {
          "base_uri": "https://localhost:8080/"
        },
        "outputId": "b736b9ef-bb30-4b65-c9dc-c3839b4f3413"
      },
      "execution_count": null,
      "outputs": [
        {
          "output_type": "execute_result",
          "data": {
            "text/plain": [
              "0.3847553683772682"
            ]
          },
          "metadata": {},
          "execution_count": 23
        }
      ]
    },
    {
      "cell_type": "code",
      "source": [],
      "metadata": {
        "id": "6WgiMSI_YTwC"
      },
      "execution_count": null,
      "outputs": []
    },
    {
      "cell_type": "code",
      "source": [
        "# определите количество заполненных значений по признаку 'league_name'\n",
        "df1['league_name'].notna().sum()"
      ],
      "metadata": {
        "id": "n73EIdfejE6j",
        "colab": {
          "base_uri": "https://localhost:8080/"
        },
        "outputId": "84ad553c-b5e4-4d39-eefb-1905d42280fb"
      },
      "execution_count": null,
      "outputs": [
        {
          "output_type": "execute_result",
          "data": {
            "text/plain": [
              "19172"
            ]
          },
          "metadata": {},
          "execution_count": 24
        }
      ]
    },
    {
      "cell_type": "code",
      "source": [
        "# исключите все записи, по которым отсутствуют значения по признаку 'club_name'\n",
        "# (автоматически перезапишите датафрейм)\n",
        "df1.dropna(subset='club_name', inplace=True)"
      ],
      "metadata": {
        "id": "ZrQfe0okjE6m"
      },
      "execution_count": null,
      "outputs": []
    },
    {
      "cell_type": "code",
      "source": [
        "# определите количество пропущенных значений по признаку 'value_eur'\n",
        "df1['value_eur'].isna().sum()"
      ],
      "metadata": {
        "id": "bsMOfWKpnvNy",
        "colab": {
          "base_uri": "https://localhost:8080/"
        },
        "outputId": "18065869-6307-4814-ff1e-7ba8a0dfa8d9"
      },
      "execution_count": null,
      "outputs": [
        {
          "output_type": "execute_result",
          "data": {
            "text/plain": [
              "13"
            ]
          },
          "metadata": {},
          "execution_count": 26
        }
      ]
    },
    {
      "cell_type": "code",
      "source": [
        "# найдите среднее значение по признаку 'value_eur'\n",
        "mean = df1['value_eur'].mean()\n",
        "mean"
      ],
      "metadata": {
        "id": "XI9Zf_HIoDOq",
        "colab": {
          "base_uri": "https://localhost:8080/"
        },
        "outputId": "2368c946-e72a-411c-9fc0-c5b4085fd5aa"
      },
      "execution_count": null,
      "outputs": [
        {
          "output_type": "execute_result",
          "data": {
            "text/plain": [
              "2850611.9317292133"
            ]
          },
          "metadata": {},
          "execution_count": 27
        }
      ]
    },
    {
      "cell_type": "code",
      "source": [
        "# заполните средним значением отсутствующие значения по признаку 'value_eur'\n",
        "# (автоматически перезапишите датафрейм)\n",
        "df1['value_eur'].fillna(mean, inplace=True)"
      ],
      "metadata": {
        "id": "OAN-LNkJpC-m",
        "colab": {
          "base_uri": "https://localhost:8080/"
        },
        "outputId": "3cf9f7c0-175c-4d90-fd89-fe03cd369e28"
      },
      "execution_count": null,
      "outputs": [
        {
          "output_type": "stream",
          "name": "stderr",
          "text": [
            "<ipython-input-28-111b13148b97>:3: FutureWarning: A value is trying to be set on a copy of a DataFrame or Series through chained assignment using an inplace method.\n",
            "The behavior will change in pandas 3.0. This inplace method will never work because the intermediate object on which we are setting values always behaves as a copy.\n",
            "\n",
            "For example, when doing 'df[col].method(value, inplace=True)', try using 'df.method({col: value}, inplace=True)' or df[col] = df[col].method(value) instead, to perform the operation inplace on the original object.\n",
            "\n",
            "\n",
            "  df1['value_eur'].fillna(mean, inplace=True)\n"
          ]
        }
      ]
    },
    {
      "cell_type": "code",
      "source": [
        "# сбросьте индексы после всех преобразований\n",
        "# (автоматически перезапишите датафрейм)\n",
        "df1.reset_index(drop=True, inplace=True)"
      ],
      "metadata": {
        "id": "analF35ppcls"
      },
      "execution_count": null,
      "outputs": []
    },
    {
      "cell_type": "code",
      "source": [
        "# проверьте диапазон индексов\n",
        "df1.index"
      ],
      "metadata": {
        "id": "jtaG9yoopuCy",
        "colab": {
          "base_uri": "https://localhost:8080/"
        },
        "outputId": "b0cab715-d6bb-43bd-af96-815436f0e949"
      },
      "execution_count": null,
      "outputs": [
        {
          "output_type": "execute_result",
          "data": {
            "text/plain": [
              "RangeIndex(start=0, stop=19172, step=1)"
            ]
          },
          "metadata": {},
          "execution_count": 30
        }
      ]
    },
    {
      "cell_type": "markdown",
      "source": [
        "# Преобразование данных"
      ],
      "metadata": {
        "id": "Tr37w503a0IQ"
      }
    },
    {
      "cell_type": "code",
      "source": [
        "# определите формат данных признака 'dob'\n",
        "df1['dob'].dtypes"
      ],
      "metadata": {
        "id": "uLdsBB2na0IW",
        "colab": {
          "base_uri": "https://localhost:8080/"
        },
        "outputId": "ff875a74-fe3a-4ef9-9ecf-f06a7235324b"
      },
      "execution_count": null,
      "outputs": [
        {
          "output_type": "execute_result",
          "data": {
            "text/plain": [
              "dtype('O')"
            ]
          },
          "metadata": {},
          "execution_count": 31
        }
      ]
    },
    {
      "cell_type": "code",
      "source": [
        "# переведите значения признака 'dob' в формат datetime\n",
        "df1['dob'] = pd.to_datetime(df1['dob'])"
      ],
      "metadata": {
        "id": "d3Q-55vMa0IW"
      },
      "execution_count": null,
      "outputs": []
    },
    {
      "cell_type": "code",
      "source": [
        "# отобразите даты в формате ДД.ММ.ГГГГ\n",
        "df1['dob'] = pd.to_datetime(df1['dob'], format=\"%d.%m.%Y\")\n",
        "df1['dob']"
      ],
      "metadata": {
        "id": "P9UxbdQ4MBUq",
        "colab": {
          "base_uri": "https://localhost:8080/",
          "height": 458
        },
        "outputId": "ba1b8565-53cc-4ba8-8605-4382c7fc78de"
      },
      "execution_count": null,
      "outputs": [
        {
          "output_type": "execute_result",
          "data": {
            "text/plain": [
              "0       1987-06-24\n",
              "1       1988-08-21\n",
              "2       1985-02-05\n",
              "3       1992-02-05\n",
              "4       1991-06-28\n",
              "           ...    \n",
              "19167   1999-01-02\n",
              "19168   2002-03-18\n",
              "19169   2000-02-07\n",
              "19170   2002-04-23\n",
              "19171   2002-02-06\n",
              "Name: dob, Length: 19172, dtype: datetime64[ns]"
            ],
            "text/html": [
              "<div>\n",
              "<style scoped>\n",
              "    .dataframe tbody tr th:only-of-type {\n",
              "        vertical-align: middle;\n",
              "    }\n",
              "\n",
              "    .dataframe tbody tr th {\n",
              "        vertical-align: top;\n",
              "    }\n",
              "\n",
              "    .dataframe thead th {\n",
              "        text-align: right;\n",
              "    }\n",
              "</style>\n",
              "<table border=\"1\" class=\"dataframe\">\n",
              "  <thead>\n",
              "    <tr style=\"text-align: right;\">\n",
              "      <th></th>\n",
              "      <th>dob</th>\n",
              "    </tr>\n",
              "  </thead>\n",
              "  <tbody>\n",
              "    <tr>\n",
              "      <th>0</th>\n",
              "      <td>1987-06-24</td>\n",
              "    </tr>\n",
              "    <tr>\n",
              "      <th>1</th>\n",
              "      <td>1988-08-21</td>\n",
              "    </tr>\n",
              "    <tr>\n",
              "      <th>2</th>\n",
              "      <td>1985-02-05</td>\n",
              "    </tr>\n",
              "    <tr>\n",
              "      <th>3</th>\n",
              "      <td>1992-02-05</td>\n",
              "    </tr>\n",
              "    <tr>\n",
              "      <th>4</th>\n",
              "      <td>1991-06-28</td>\n",
              "    </tr>\n",
              "    <tr>\n",
              "      <th>...</th>\n",
              "      <td>...</td>\n",
              "    </tr>\n",
              "    <tr>\n",
              "      <th>19167</th>\n",
              "      <td>1999-01-02</td>\n",
              "    </tr>\n",
              "    <tr>\n",
              "      <th>19168</th>\n",
              "      <td>2002-03-18</td>\n",
              "    </tr>\n",
              "    <tr>\n",
              "      <th>19169</th>\n",
              "      <td>2000-02-07</td>\n",
              "    </tr>\n",
              "    <tr>\n",
              "      <th>19170</th>\n",
              "      <td>2002-04-23</td>\n",
              "    </tr>\n",
              "    <tr>\n",
              "      <th>19171</th>\n",
              "      <td>2002-02-06</td>\n",
              "    </tr>\n",
              "  </tbody>\n",
              "</table>\n",
              "<p>19172 rows × 1 columns</p>\n",
              "</div><br><label><b>dtype:</b> datetime64[ns]</label>"
            ]
          },
          "metadata": {},
          "execution_count": 33
        }
      ]
    },
    {
      "cell_type": "code",
      "source": [
        "# определите формат данных признака 'overall'\n",
        "df1['overall'].dtypes"
      ],
      "metadata": {
        "id": "TLZg8Hpla0IX",
        "colab": {
          "base_uri": "https://localhost:8080/"
        },
        "outputId": "5e140a66-e21d-43a2-c71d-4a595df5a4e7"
      },
      "execution_count": null,
      "outputs": [
        {
          "output_type": "execute_result",
          "data": {
            "text/plain": [
              "dtype('int64')"
            ]
          },
          "metadata": {},
          "execution_count": 34
        }
      ]
    },
    {
      "cell_type": "code",
      "source": [
        "# переведите значения признака 'overall' в формат числа с плавающей точкой\n",
        "df1['overall'] = pd.to_numeric(df1['overall'], downcast='float')\n",
        "df1['overall']"
      ],
      "metadata": {
        "id": "AxIAK-0oa0IX",
        "colab": {
          "base_uri": "https://localhost:8080/",
          "height": 458
        },
        "outputId": "30329753-9794-4ac2-f18d-27a3e1a23163"
      },
      "execution_count": null,
      "outputs": [
        {
          "output_type": "execute_result",
          "data": {
            "text/plain": [
              "0        93.0\n",
              "1        92.0\n",
              "2        91.0\n",
              "3        91.0\n",
              "4        91.0\n",
              "         ... \n",
              "19167    47.0\n",
              "19168    47.0\n",
              "19169    47.0\n",
              "19170    47.0\n",
              "19171    47.0\n",
              "Name: overall, Length: 19172, dtype: float32"
            ],
            "text/html": [
              "<div>\n",
              "<style scoped>\n",
              "    .dataframe tbody tr th:only-of-type {\n",
              "        vertical-align: middle;\n",
              "    }\n",
              "\n",
              "    .dataframe tbody tr th {\n",
              "        vertical-align: top;\n",
              "    }\n",
              "\n",
              "    .dataframe thead th {\n",
              "        text-align: right;\n",
              "    }\n",
              "</style>\n",
              "<table border=\"1\" class=\"dataframe\">\n",
              "  <thead>\n",
              "    <tr style=\"text-align: right;\">\n",
              "      <th></th>\n",
              "      <th>overall</th>\n",
              "    </tr>\n",
              "  </thead>\n",
              "  <tbody>\n",
              "    <tr>\n",
              "      <th>0</th>\n",
              "      <td>93.0</td>\n",
              "    </tr>\n",
              "    <tr>\n",
              "      <th>1</th>\n",
              "      <td>92.0</td>\n",
              "    </tr>\n",
              "    <tr>\n",
              "      <th>2</th>\n",
              "      <td>91.0</td>\n",
              "    </tr>\n",
              "    <tr>\n",
              "      <th>3</th>\n",
              "      <td>91.0</td>\n",
              "    </tr>\n",
              "    <tr>\n",
              "      <th>4</th>\n",
              "      <td>91.0</td>\n",
              "    </tr>\n",
              "    <tr>\n",
              "      <th>...</th>\n",
              "      <td>...</td>\n",
              "    </tr>\n",
              "    <tr>\n",
              "      <th>19167</th>\n",
              "      <td>47.0</td>\n",
              "    </tr>\n",
              "    <tr>\n",
              "      <th>19168</th>\n",
              "      <td>47.0</td>\n",
              "    </tr>\n",
              "    <tr>\n",
              "      <th>19169</th>\n",
              "      <td>47.0</td>\n",
              "    </tr>\n",
              "    <tr>\n",
              "      <th>19170</th>\n",
              "      <td>47.0</td>\n",
              "    </tr>\n",
              "    <tr>\n",
              "      <th>19171</th>\n",
              "      <td>47.0</td>\n",
              "    </tr>\n",
              "  </tbody>\n",
              "</table>\n",
              "<p>19172 rows × 1 columns</p>\n",
              "</div><br><label><b>dtype:</b> float32</label>"
            ]
          },
          "metadata": {},
          "execution_count": 35
        }
      ]
    },
    {
      "cell_type": "code",
      "source": [
        "# определите формат данных признака 'value_eur'\n",
        "df1['value_eur'].dtypes"
      ],
      "metadata": {
        "id": "S4pxTl-xa0IY",
        "colab": {
          "base_uri": "https://localhost:8080/"
        },
        "outputId": "8fa28a4d-fbf0-4fc2-af96-638c8551f6af"
      },
      "execution_count": null,
      "outputs": [
        {
          "output_type": "execute_result",
          "data": {
            "text/plain": [
              "dtype('float64')"
            ]
          },
          "metadata": {},
          "execution_count": 36
        }
      ]
    },
    {
      "cell_type": "code",
      "source": [
        "# переведите значения признака 'value_eur' в формат целого числа\n",
        "df1['value_eur'] = df1.value_eur.astype('int')\n",
        "df1['value_eur']"
      ],
      "metadata": {
        "id": "tRzNy-vAa0IY",
        "colab": {
          "base_uri": "https://localhost:8080/",
          "height": 458
        },
        "outputId": "fac726f4-7b60-498e-b44f-829fa7a8344f"
      },
      "execution_count": null,
      "outputs": [
        {
          "output_type": "execute_result",
          "data": {
            "text/plain": [
              "0         78000000\n",
              "1        119500000\n",
              "2         45000000\n",
              "3        129000000\n",
              "4        125500000\n",
              "           ...    \n",
              "19167        70000\n",
              "19168       110000\n",
              "19169       100000\n",
              "19170       110000\n",
              "19171       110000\n",
              "Name: value_eur, Length: 19172, dtype: int64"
            ],
            "text/html": [
              "<div>\n",
              "<style scoped>\n",
              "    .dataframe tbody tr th:only-of-type {\n",
              "        vertical-align: middle;\n",
              "    }\n",
              "\n",
              "    .dataframe tbody tr th {\n",
              "        vertical-align: top;\n",
              "    }\n",
              "\n",
              "    .dataframe thead th {\n",
              "        text-align: right;\n",
              "    }\n",
              "</style>\n",
              "<table border=\"1\" class=\"dataframe\">\n",
              "  <thead>\n",
              "    <tr style=\"text-align: right;\">\n",
              "      <th></th>\n",
              "      <th>value_eur</th>\n",
              "    </tr>\n",
              "  </thead>\n",
              "  <tbody>\n",
              "    <tr>\n",
              "      <th>0</th>\n",
              "      <td>78000000</td>\n",
              "    </tr>\n",
              "    <tr>\n",
              "      <th>1</th>\n",
              "      <td>119500000</td>\n",
              "    </tr>\n",
              "    <tr>\n",
              "      <th>2</th>\n",
              "      <td>45000000</td>\n",
              "    </tr>\n",
              "    <tr>\n",
              "      <th>3</th>\n",
              "      <td>129000000</td>\n",
              "    </tr>\n",
              "    <tr>\n",
              "      <th>4</th>\n",
              "      <td>125500000</td>\n",
              "    </tr>\n",
              "    <tr>\n",
              "      <th>...</th>\n",
              "      <td>...</td>\n",
              "    </tr>\n",
              "    <tr>\n",
              "      <th>19167</th>\n",
              "      <td>70000</td>\n",
              "    </tr>\n",
              "    <tr>\n",
              "      <th>19168</th>\n",
              "      <td>110000</td>\n",
              "    </tr>\n",
              "    <tr>\n",
              "      <th>19169</th>\n",
              "      <td>100000</td>\n",
              "    </tr>\n",
              "    <tr>\n",
              "      <th>19170</th>\n",
              "      <td>110000</td>\n",
              "    </tr>\n",
              "    <tr>\n",
              "      <th>19171</th>\n",
              "      <td>110000</td>\n",
              "    </tr>\n",
              "  </tbody>\n",
              "</table>\n",
              "<p>19172 rows × 1 columns</p>\n",
              "</div><br><label><b>dtype:</b> int64</label>"
            ]
          },
          "metadata": {},
          "execution_count": 37
        }
      ]
    },
    {
      "cell_type": "markdown",
      "source": [
        "# Расчёт доп. признаков"
      ],
      "metadata": {
        "id": "msdTAzxbZLyz"
      }
    },
    {
      "cell_type": "code",
      "source": [
        "# рассчитайте актуальный возраст на текущий год (без учета дня и месяца рождения) и сохраните данные в столбец 'age_new'\n",
        "current_day = pd.Timestamp.today()\n",
        "current_year = current_day.year\n",
        "df1['age_new'] = current_year - 2022 + df1['age']\n",
        "df1.age_new"
      ],
      "metadata": {
        "id": "3aymwgAMZLzH",
        "colab": {
          "base_uri": "https://localhost:8080/",
          "height": 458
        },
        "outputId": "b706e50d-6bb0-4f3e-ba91-76be3587b991"
      },
      "execution_count": null,
      "outputs": [
        {
          "output_type": "execute_result",
          "data": {
            "text/plain": [
              "0        37\n",
              "1        35\n",
              "2        39\n",
              "3        32\n",
              "4        33\n",
              "         ..\n",
              "19167    25\n",
              "19168    22\n",
              "19169    24\n",
              "19170    22\n",
              "19171    22\n",
              "Name: age_new, Length: 19172, dtype: int64"
            ],
            "text/html": [
              "<div>\n",
              "<style scoped>\n",
              "    .dataframe tbody tr th:only-of-type {\n",
              "        vertical-align: middle;\n",
              "    }\n",
              "\n",
              "    .dataframe tbody tr th {\n",
              "        vertical-align: top;\n",
              "    }\n",
              "\n",
              "    .dataframe thead th {\n",
              "        text-align: right;\n",
              "    }\n",
              "</style>\n",
              "<table border=\"1\" class=\"dataframe\">\n",
              "  <thead>\n",
              "    <tr style=\"text-align: right;\">\n",
              "      <th></th>\n",
              "      <th>age_new</th>\n",
              "    </tr>\n",
              "  </thead>\n",
              "  <tbody>\n",
              "    <tr>\n",
              "      <th>0</th>\n",
              "      <td>37</td>\n",
              "    </tr>\n",
              "    <tr>\n",
              "      <th>1</th>\n",
              "      <td>35</td>\n",
              "    </tr>\n",
              "    <tr>\n",
              "      <th>2</th>\n",
              "      <td>39</td>\n",
              "    </tr>\n",
              "    <tr>\n",
              "      <th>3</th>\n",
              "      <td>32</td>\n",
              "    </tr>\n",
              "    <tr>\n",
              "      <th>4</th>\n",
              "      <td>33</td>\n",
              "    </tr>\n",
              "    <tr>\n",
              "      <th>...</th>\n",
              "      <td>...</td>\n",
              "    </tr>\n",
              "    <tr>\n",
              "      <th>19167</th>\n",
              "      <td>25</td>\n",
              "    </tr>\n",
              "    <tr>\n",
              "      <th>19168</th>\n",
              "      <td>22</td>\n",
              "    </tr>\n",
              "    <tr>\n",
              "      <th>19169</th>\n",
              "      <td>24</td>\n",
              "    </tr>\n",
              "    <tr>\n",
              "      <th>19170</th>\n",
              "      <td>22</td>\n",
              "    </tr>\n",
              "    <tr>\n",
              "      <th>19171</th>\n",
              "      <td>22</td>\n",
              "    </tr>\n",
              "  </tbody>\n",
              "</table>\n",
              "<p>19172 rows × 1 columns</p>\n",
              "</div><br><label><b>dtype:</b> int64</label>"
            ]
          },
          "metadata": {},
          "execution_count": 38
        }
      ]
    },
    {
      "cell_type": "code",
      "source": [
        "# определите разницу в возрасте (количество лет) между футболистами под индексом 0 и 10017\n",
        "df1.loc[0]['age_new'] - df1.loc[10017]['age_new']"
      ],
      "metadata": {
        "id": "iDf3GJbqiTKC",
        "colab": {
          "base_uri": "https://localhost:8080/"
        },
        "outputId": "8e6381b1-049b-4d81-de29-d5b72eceb5ac"
      },
      "execution_count": null,
      "outputs": [
        {
          "output_type": "execute_result",
          "data": {
            "text/plain": [
              "5"
            ]
          },
          "metadata": {},
          "execution_count": 39
        }
      ]
    },
    {
      "cell_type": "code",
      "source": [
        "df1['weight_kg']"
      ],
      "metadata": {
        "colab": {
          "base_uri": "https://localhost:8080/",
          "height": 458
        },
        "id": "0kteOib93eeX",
        "outputId": "04d81440-e169-4da3-891d-07e4aedb9377"
      },
      "execution_count": null,
      "outputs": [
        {
          "output_type": "execute_result",
          "data": {
            "text/plain": [
              "0        72\n",
              "1        81\n",
              "2        83\n",
              "3        68\n",
              "4        70\n",
              "         ..\n",
              "19167    64\n",
              "19168    70\n",
              "19169    72\n",
              "19170    66\n",
              "19171    61\n",
              "Name: weight_kg, Length: 19172, dtype: int64"
            ],
            "text/html": [
              "<div>\n",
              "<style scoped>\n",
              "    .dataframe tbody tr th:only-of-type {\n",
              "        vertical-align: middle;\n",
              "    }\n",
              "\n",
              "    .dataframe tbody tr th {\n",
              "        vertical-align: top;\n",
              "    }\n",
              "\n",
              "    .dataframe thead th {\n",
              "        text-align: right;\n",
              "    }\n",
              "</style>\n",
              "<table border=\"1\" class=\"dataframe\">\n",
              "  <thead>\n",
              "    <tr style=\"text-align: right;\">\n",
              "      <th></th>\n",
              "      <th>weight_kg</th>\n",
              "    </tr>\n",
              "  </thead>\n",
              "  <tbody>\n",
              "    <tr>\n",
              "      <th>0</th>\n",
              "      <td>72</td>\n",
              "    </tr>\n",
              "    <tr>\n",
              "      <th>1</th>\n",
              "      <td>81</td>\n",
              "    </tr>\n",
              "    <tr>\n",
              "      <th>2</th>\n",
              "      <td>83</td>\n",
              "    </tr>\n",
              "    <tr>\n",
              "      <th>3</th>\n",
              "      <td>68</td>\n",
              "    </tr>\n",
              "    <tr>\n",
              "      <th>4</th>\n",
              "      <td>70</td>\n",
              "    </tr>\n",
              "    <tr>\n",
              "      <th>...</th>\n",
              "      <td>...</td>\n",
              "    </tr>\n",
              "    <tr>\n",
              "      <th>19167</th>\n",
              "      <td>64</td>\n",
              "    </tr>\n",
              "    <tr>\n",
              "      <th>19168</th>\n",
              "      <td>70</td>\n",
              "    </tr>\n",
              "    <tr>\n",
              "      <th>19169</th>\n",
              "      <td>72</td>\n",
              "    </tr>\n",
              "    <tr>\n",
              "      <th>19170</th>\n",
              "      <td>66</td>\n",
              "    </tr>\n",
              "    <tr>\n",
              "      <th>19171</th>\n",
              "      <td>61</td>\n",
              "    </tr>\n",
              "  </tbody>\n",
              "</table>\n",
              "<p>19172 rows × 1 columns</p>\n",
              "</div><br><label><b>dtype:</b> int64</label>"
            ]
          },
          "metadata": {},
          "execution_count": 40
        }
      ]
    },
    {
      "cell_type": "code",
      "source": [
        "# определите индекс массы тела футболистов, округлив результат до двух знаков после запятой\n",
        "# запишите результаты в столбец 'imt'\n",
        "# ИМТ = вес (в килограммах) : (рост (м))**2\n",
        "# вес - 'weight_kg', рост - 'height_cm'\n",
        "df1['imt'] = round(df1['weight_kg'] / (df1['height_cm'] / 100) **2, 2)\n",
        "df1['imt']"
      ],
      "metadata": {
        "id": "60wIU8xcZLzI",
        "colab": {
          "base_uri": "https://localhost:8080/",
          "height": 458
        },
        "outputId": "b0c969bd-dee3-4d97-e335-2d1cb62c658b"
      },
      "execution_count": null,
      "outputs": [
        {
          "output_type": "execute_result",
          "data": {
            "text/plain": [
              "0        24.91\n",
              "1        23.67\n",
              "2        23.74\n",
              "3        22.20\n",
              "4        21.37\n",
              "         ...  \n",
              "19167    19.75\n",
              "19168    22.86\n",
              "19169    22.72\n",
              "19170    22.05\n",
              "19171    21.87\n",
              "Name: imt, Length: 19172, dtype: float64"
            ],
            "text/html": [
              "<div>\n",
              "<style scoped>\n",
              "    .dataframe tbody tr th:only-of-type {\n",
              "        vertical-align: middle;\n",
              "    }\n",
              "\n",
              "    .dataframe tbody tr th {\n",
              "        vertical-align: top;\n",
              "    }\n",
              "\n",
              "    .dataframe thead th {\n",
              "        text-align: right;\n",
              "    }\n",
              "</style>\n",
              "<table border=\"1\" class=\"dataframe\">\n",
              "  <thead>\n",
              "    <tr style=\"text-align: right;\">\n",
              "      <th></th>\n",
              "      <th>imt</th>\n",
              "    </tr>\n",
              "  </thead>\n",
              "  <tbody>\n",
              "    <tr>\n",
              "      <th>0</th>\n",
              "      <td>24.91</td>\n",
              "    </tr>\n",
              "    <tr>\n",
              "      <th>1</th>\n",
              "      <td>23.67</td>\n",
              "    </tr>\n",
              "    <tr>\n",
              "      <th>2</th>\n",
              "      <td>23.74</td>\n",
              "    </tr>\n",
              "    <tr>\n",
              "      <th>3</th>\n",
              "      <td>22.20</td>\n",
              "    </tr>\n",
              "    <tr>\n",
              "      <th>4</th>\n",
              "      <td>21.37</td>\n",
              "    </tr>\n",
              "    <tr>\n",
              "      <th>...</th>\n",
              "      <td>...</td>\n",
              "    </tr>\n",
              "    <tr>\n",
              "      <th>19167</th>\n",
              "      <td>19.75</td>\n",
              "    </tr>\n",
              "    <tr>\n",
              "      <th>19168</th>\n",
              "      <td>22.86</td>\n",
              "    </tr>\n",
              "    <tr>\n",
              "      <th>19169</th>\n",
              "      <td>22.72</td>\n",
              "    </tr>\n",
              "    <tr>\n",
              "      <th>19170</th>\n",
              "      <td>22.05</td>\n",
              "    </tr>\n",
              "    <tr>\n",
              "      <th>19171</th>\n",
              "      <td>21.87</td>\n",
              "    </tr>\n",
              "  </tbody>\n",
              "</table>\n",
              "<p>19172 rows × 1 columns</p>\n",
              "</div><br><label><b>dtype:</b> float64</label>"
            ]
          },
          "metadata": {},
          "execution_count": 41
        }
      ]
    },
    {
      "cell_type": "code",
      "source": [
        "# определите среднее значение ИМТ с помощью метода mean(), округлив результат до двух знаков после запятой\n",
        "round(df1['imt'].mean(), 2)"
      ],
      "metadata": {
        "id": "a0_4zCwhkNaA",
        "colab": {
          "base_uri": "https://localhost:8080/"
        },
        "outputId": "8a2fd595-9290-49ec-efbe-0d4687cc2a31"
      },
      "execution_count": null,
      "outputs": [
        {
          "output_type": "execute_result",
          "data": {
            "text/plain": [
              "22.77"
            ]
          },
          "metadata": {},
          "execution_count": 42
        }
      ]
    },
    {
      "cell_type": "code",
      "source": [
        "print(df1['player_positions'].apply(type).unique())"
      ],
      "metadata": {
        "colab": {
          "base_uri": "https://localhost:8080/"
        },
        "id": "8eKh2N2s5Jpx",
        "outputId": "a18aadac-2cf4-48f6-994a-466033fbd62c"
      },
      "execution_count": null,
      "outputs": [
        {
          "output_type": "stream",
          "name": "stdout",
          "text": [
            "[<class 'str'>]\n"
          ]
        }
      ]
    },
    {
      "cell_type": "code",
      "source": [
        "# закодируйте значения по признаку 'player_positions' по условию:\n",
        "# если указано одно значение, то присвоить 0, в противном случае - 1\n",
        "# результаты сохраните в столбец 'player_positions_code'\n",
        "# подсказка: количество значений можно определить как длину списка, определенного с помощью метода split()\n",
        "df1['player_positions'] = df1['player_positions'].apply(lambda x: x.split(', '))\n",
        " #.apply(lambda x: str(x).split() if pd.notnull(x) else x)\n",
        "df1['player_positions_code'] = df1['player_positions'].apply(\n",
        "    lambda position: 0 if len(position) == 1 else 1\n",
        "    )\n",
        "#for position in df1['player_positions']:\n",
        " # if len(position_list) == 1:\n",
        "  #  df1['player_positions_code'] = 0\n",
        "#  else: df1['player_positions_code'] = 1\n",
        "df1['player_positions_code']"
      ],
      "metadata": {
        "id": "jhoGLJA7nRJp",
        "colab": {
          "base_uri": "https://localhost:8080/",
          "height": 458
        },
        "outputId": "a57d6dcb-fc5e-4953-fd65-96a050f5a249"
      },
      "execution_count": null,
      "outputs": [
        {
          "output_type": "execute_result",
          "data": {
            "text/plain": [
              "0        1\n",
              "1        0\n",
              "2        1\n",
              "3        1\n",
              "4        1\n",
              "        ..\n",
              "19167    0\n",
              "19168    0\n",
              "19169    0\n",
              "19170    0\n",
              "19171    0\n",
              "Name: player_positions_code, Length: 19172, dtype: int64"
            ],
            "text/html": [
              "<div>\n",
              "<style scoped>\n",
              "    .dataframe tbody tr th:only-of-type {\n",
              "        vertical-align: middle;\n",
              "    }\n",
              "\n",
              "    .dataframe tbody tr th {\n",
              "        vertical-align: top;\n",
              "    }\n",
              "\n",
              "    .dataframe thead th {\n",
              "        text-align: right;\n",
              "    }\n",
              "</style>\n",
              "<table border=\"1\" class=\"dataframe\">\n",
              "  <thead>\n",
              "    <tr style=\"text-align: right;\">\n",
              "      <th></th>\n",
              "      <th>player_positions_code</th>\n",
              "    </tr>\n",
              "  </thead>\n",
              "  <tbody>\n",
              "    <tr>\n",
              "      <th>0</th>\n",
              "      <td>1</td>\n",
              "    </tr>\n",
              "    <tr>\n",
              "      <th>1</th>\n",
              "      <td>0</td>\n",
              "    </tr>\n",
              "    <tr>\n",
              "      <th>2</th>\n",
              "      <td>1</td>\n",
              "    </tr>\n",
              "    <tr>\n",
              "      <th>3</th>\n",
              "      <td>1</td>\n",
              "    </tr>\n",
              "    <tr>\n",
              "      <th>4</th>\n",
              "      <td>1</td>\n",
              "    </tr>\n",
              "    <tr>\n",
              "      <th>...</th>\n",
              "      <td>...</td>\n",
              "    </tr>\n",
              "    <tr>\n",
              "      <th>19167</th>\n",
              "      <td>0</td>\n",
              "    </tr>\n",
              "    <tr>\n",
              "      <th>19168</th>\n",
              "      <td>0</td>\n",
              "    </tr>\n",
              "    <tr>\n",
              "      <th>19169</th>\n",
              "      <td>0</td>\n",
              "    </tr>\n",
              "    <tr>\n",
              "      <th>19170</th>\n",
              "      <td>0</td>\n",
              "    </tr>\n",
              "    <tr>\n",
              "      <th>19171</th>\n",
              "      <td>0</td>\n",
              "    </tr>\n",
              "  </tbody>\n",
              "</table>\n",
              "<p>19172 rows × 1 columns</p>\n",
              "</div><br><label><b>dtype:</b> int64</label>"
            ]
          },
          "metadata": {},
          "execution_count": 44
        }
      ]
    },
    {
      "cell_type": "code",
      "source": [
        "# определите наиболее часто встречаемое значение по признаку 'player_positions_code'\n",
        "# подсказка: используйте метод mode()\n",
        "most_frequent = df1['player_positions_code'].mode()[0]\n",
        "most_frequent"
      ],
      "metadata": {
        "id": "BT3yD8Y2pLQy",
        "colab": {
          "base_uri": "https://localhost:8080/"
        },
        "outputId": "155bd24a-5d46-4470-c2a4-0e679915a101"
      },
      "execution_count": null,
      "outputs": [
        {
          "output_type": "execute_result",
          "data": {
            "text/plain": [
              "1"
            ]
          },
          "metadata": {},
          "execution_count": 45
        }
      ]
    },
    {
      "cell_type": "code",
      "source": [
        "# закодируйте значения по признаку 'player_positions_code' с помощью словаря:\n",
        "# 0: one, 1: several\n",
        "# результаты сохраните в столбец 'player_positions_category'\n",
        "player_positions_dict = {0: 'one', 1: 'several'}\n",
        "df1['player_positions_category'] = df1.player_positions_code.apply(lambda x: player_positions_dict[x])"
      ],
      "metadata": {
        "id": "ssZ35xpVp_Ym"
      },
      "execution_count": null,
      "outputs": []
    },
    {
      "cell_type": "code",
      "source": [
        "# определите количество значений several по признаку 'player_positions_category'\n",
        "# подсказка: для вывода булевых значений используйте оператор сравнения\n",
        "# подсказка: для расчета количества используйте метод sum()\n",
        "df1['player_positions_category'].apply(lambda x: True if x == 'several' else False).sum()"
      ],
      "metadata": {
        "id": "Sq1pxCUfZLzI",
        "colab": {
          "base_uri": "https://localhost:8080/"
        },
        "outputId": "97dda728-51c8-45d7-e9da-0ba2137e02b6"
      },
      "execution_count": null,
      "outputs": [
        {
          "output_type": "execute_result",
          "data": {
            "text/plain": [
              "9776"
            ]
          },
          "metadata": {},
          "execution_count": 47
        }
      ]
    },
    {
      "cell_type": "markdown",
      "source": [
        "# Форматирование текстовых данных"
      ],
      "metadata": {
        "id": "BZ3S2K4LubeX"
      }
    },
    {
      "cell_type": "code",
      "source": [
        "df2 = df1.copy()"
      ],
      "metadata": {
        "id": "UgvNQKR6TyoA"
      },
      "execution_count": null,
      "outputs": []
    },
    {
      "cell_type": "code",
      "source": [
        "# определите количество уникальных значений по признаку 'league_name'\n",
        "len(df2['league_name'].unique())"
      ],
      "metadata": {
        "id": "_71n_OAsubeu",
        "colab": {
          "base_uri": "https://localhost:8080/"
        },
        "outputId": "11e71839-b954-4a32-8091-3bcf9f010a0c"
      },
      "execution_count": null,
      "outputs": [
        {
          "output_type": "execute_result",
          "data": {
            "text/plain": [
              "55"
            ]
          },
          "metadata": {},
          "execution_count": 342
        }
      ]
    },
    {
      "cell_type": "code",
      "source": [
        "# приведите строковые значения признака 'league_name' в нижний регистр\n",
        "df2['league_name'] = df2['league_name'].str.lower()\n",
        "df2['league_name']"
      ],
      "metadata": {
        "id": "5RhYApRNv8ot",
        "colab": {
          "base_uri": "https://localhost:8080/",
          "height": 458
        },
        "outputId": "7bd94b13-6d8a-47b2-e07b-eadfce52ca09"
      },
      "execution_count": null,
      "outputs": [
        {
          "output_type": "execute_result",
          "data": {
            "text/plain": [
              "0                        french ligue 1\n",
              "1                  german 1. bundesliga\n",
              "2                english premier league\n",
              "3                        french ligue 1\n",
              "4                english premier league\n",
              "                      ...              \n",
              "19167              chinese super league\n",
              "19168    rep. ireland airtricity league\n",
              "19169    rep. ireland airtricity league\n",
              "19170    rep. ireland airtricity league\n",
              "19171               indian super league\n",
              "Name: league_name, Length: 19172, dtype: object"
            ],
            "text/html": [
              "<div>\n",
              "<style scoped>\n",
              "    .dataframe tbody tr th:only-of-type {\n",
              "        vertical-align: middle;\n",
              "    }\n",
              "\n",
              "    .dataframe tbody tr th {\n",
              "        vertical-align: top;\n",
              "    }\n",
              "\n",
              "    .dataframe thead th {\n",
              "        text-align: right;\n",
              "    }\n",
              "</style>\n",
              "<table border=\"1\" class=\"dataframe\">\n",
              "  <thead>\n",
              "    <tr style=\"text-align: right;\">\n",
              "      <th></th>\n",
              "      <th>league_name</th>\n",
              "    </tr>\n",
              "  </thead>\n",
              "  <tbody>\n",
              "    <tr>\n",
              "      <th>0</th>\n",
              "      <td>french ligue 1</td>\n",
              "    </tr>\n",
              "    <tr>\n",
              "      <th>1</th>\n",
              "      <td>german 1. bundesliga</td>\n",
              "    </tr>\n",
              "    <tr>\n",
              "      <th>2</th>\n",
              "      <td>english premier league</td>\n",
              "    </tr>\n",
              "    <tr>\n",
              "      <th>3</th>\n",
              "      <td>french ligue 1</td>\n",
              "    </tr>\n",
              "    <tr>\n",
              "      <th>4</th>\n",
              "      <td>english premier league</td>\n",
              "    </tr>\n",
              "    <tr>\n",
              "      <th>...</th>\n",
              "      <td>...</td>\n",
              "    </tr>\n",
              "    <tr>\n",
              "      <th>19167</th>\n",
              "      <td>chinese super league</td>\n",
              "    </tr>\n",
              "    <tr>\n",
              "      <th>19168</th>\n",
              "      <td>rep. ireland airtricity league</td>\n",
              "    </tr>\n",
              "    <tr>\n",
              "      <th>19169</th>\n",
              "      <td>rep. ireland airtricity league</td>\n",
              "    </tr>\n",
              "    <tr>\n",
              "      <th>19170</th>\n",
              "      <td>rep. ireland airtricity league</td>\n",
              "    </tr>\n",
              "    <tr>\n",
              "      <th>19171</th>\n",
              "      <td>indian super league</td>\n",
              "    </tr>\n",
              "  </tbody>\n",
              "</table>\n",
              "<p>19172 rows × 1 columns</p>\n",
              "</div><br><label><b>dtype:</b> object</label>"
            ]
          },
          "metadata": {},
          "execution_count": 343
        }
      ]
    },
    {
      "cell_type": "code",
      "source": [
        "# определите, сколько раз встречается подстрока 'russia' в строковых данных признака 'league_name'\n",
        "df2['league_name'].str.contains('russia').sum()"
      ],
      "metadata": {
        "id": "_2EFuTZxwpbf",
        "colab": {
          "base_uri": "https://localhost:8080/"
        },
        "outputId": "25d3cf34-56f6-47b4-e987-21edbd8af86b"
      },
      "execution_count": null,
      "outputs": [
        {
          "output_type": "execute_result",
          "data": {
            "text/plain": [
              "82"
            ]
          },
          "metadata": {},
          "execution_count": 344
        }
      ]
    },
    {
      "cell_type": "code",
      "source": [
        "# заполните все пустые значения по признаку 'league_name' значением 'не указано'\n",
        "df2['league_name'].isna().sum()"
      ],
      "metadata": {
        "id": "VtI2CzrlyJi-",
        "colab": {
          "base_uri": "https://localhost:8080/"
        },
        "outputId": "316c68cb-aecc-4312-c88c-bcb110472fd0"
      },
      "execution_count": null,
      "outputs": [
        {
          "output_type": "execute_result",
          "data": {
            "text/plain": [
              "0"
            ]
          },
          "metadata": {},
          "execution_count": 345
        }
      ]
    },
    {
      "cell_type": "code",
      "source": [
        "# разделите строки по признаку 'player_positions' на список подстрок\n",
        "df2['player_positions'] = df2['player_positions'].str.split(', ')\n",
        "df2['player_positions']"
      ],
      "metadata": {
        "id": "B4zBbM3Pubev",
        "colab": {
          "base_uri": "https://localhost:8080/",
          "height": 458
        },
        "outputId": "2bd8bf27-ebdd-45d9-9b6e-2762c09f2ba0"
      },
      "execution_count": null,
      "outputs": [
        {
          "output_type": "execute_result",
          "data": {
            "text/plain": [
              "0        [RW, ST, CF]\n",
              "1                [ST]\n",
              "2            [ST, LW]\n",
              "3           [LW, CAM]\n",
              "4           [CM, CAM]\n",
              "             ...     \n",
              "19167           [CDM]\n",
              "19168            [CM]\n",
              "19169            [CM]\n",
              "19170            [ST]\n",
              "19171           [CAM]\n",
              "Name: player_positions, Length: 19172, dtype: object"
            ],
            "text/html": [
              "<div>\n",
              "<style scoped>\n",
              "    .dataframe tbody tr th:only-of-type {\n",
              "        vertical-align: middle;\n",
              "    }\n",
              "\n",
              "    .dataframe tbody tr th {\n",
              "        vertical-align: top;\n",
              "    }\n",
              "\n",
              "    .dataframe thead th {\n",
              "        text-align: right;\n",
              "    }\n",
              "</style>\n",
              "<table border=\"1\" class=\"dataframe\">\n",
              "  <thead>\n",
              "    <tr style=\"text-align: right;\">\n",
              "      <th></th>\n",
              "      <th>player_positions</th>\n",
              "    </tr>\n",
              "  </thead>\n",
              "  <tbody>\n",
              "    <tr>\n",
              "      <th>0</th>\n",
              "      <td>[RW, ST, CF]</td>\n",
              "    </tr>\n",
              "    <tr>\n",
              "      <th>1</th>\n",
              "      <td>[ST]</td>\n",
              "    </tr>\n",
              "    <tr>\n",
              "      <th>2</th>\n",
              "      <td>[ST, LW]</td>\n",
              "    </tr>\n",
              "    <tr>\n",
              "      <th>3</th>\n",
              "      <td>[LW, CAM]</td>\n",
              "    </tr>\n",
              "    <tr>\n",
              "      <th>4</th>\n",
              "      <td>[CM, CAM]</td>\n",
              "    </tr>\n",
              "    <tr>\n",
              "      <th>...</th>\n",
              "      <td>...</td>\n",
              "    </tr>\n",
              "    <tr>\n",
              "      <th>19167</th>\n",
              "      <td>[CDM]</td>\n",
              "    </tr>\n",
              "    <tr>\n",
              "      <th>19168</th>\n",
              "      <td>[CM]</td>\n",
              "    </tr>\n",
              "    <tr>\n",
              "      <th>19169</th>\n",
              "      <td>[CM]</td>\n",
              "    </tr>\n",
              "    <tr>\n",
              "      <th>19170</th>\n",
              "      <td>[ST]</td>\n",
              "    </tr>\n",
              "    <tr>\n",
              "      <th>19171</th>\n",
              "      <td>[CAM]</td>\n",
              "    </tr>\n",
              "  </tbody>\n",
              "</table>\n",
              "<p>19172 rows × 1 columns</p>\n",
              "</div><br><label><b>dtype:</b> object</label>"
            ]
          },
          "metadata": {},
          "execution_count": 350
        }
      ]
    },
    {
      "cell_type": "code",
      "source": [
        "# трансформируйте датафрейм по признаку 'player_positions' и сохраните его в переменную df2\n",
        "df3 = df2.explode('player_positions', ignore_index=True)\n",
        "df3.head()"
      ],
      "metadata": {
        "id": "dI_mnaQo2sp3",
        "colab": {
          "base_uri": "https://localhost:8080/",
          "height": 451
        },
        "outputId": "7e7b4298-7213-4c91-cce3-21167d953363"
      },
      "execution_count": null,
      "outputs": [
        {
          "output_type": "execute_result",
          "data": {
            "text/plain": [
              "   sofifa_id                                         player_url  \\\n",
              "0     158023  https://sofifa.com/player/158023/lionel-messi/...   \n",
              "1     158023  https://sofifa.com/player/158023/lionel-messi/...   \n",
              "2     158023  https://sofifa.com/player/158023/lionel-messi/...   \n",
              "3     188545  https://sofifa.com/player/188545/robert-lewand...   \n",
              "4      20801  https://sofifa.com/player/20801/c-ronaldo-dos-...   \n",
              "\n",
              "          short_name                            long_name player_positions  \\\n",
              "0           L. Messi       Lionel Andrés Messi Cuccittini               RW   \n",
              "1           L. Messi       Lionel Andrés Messi Cuccittini               ST   \n",
              "2           L. Messi       Lionel Andrés Messi Cuccittini               CF   \n",
              "3     R. Lewandowski                   Robert Lewandowski               ST   \n",
              "4  Cristiano Ronaldo  Cristiano Ronaldo dos Santos Aveiro               ST   \n",
              "\n",
              "   overall  potential    value_eur  wage_eur  age         dob  height_cm  \\\n",
              "0       93         93   78000000.0  320000.0   34  1987-06-24        170   \n",
              "1       93         93   78000000.0  320000.0   34  1987-06-24        170   \n",
              "2       93         93   78000000.0  320000.0   34  1987-06-24        170   \n",
              "3       92         92  119500000.0  270000.0   32  1988-08-21        185   \n",
              "4       91         91   45000000.0  270000.0   36  1985-02-05        187   \n",
              "\n",
              "   weight_kg  club_team_id            club_name             league_name  \\\n",
              "0         72          73.0  Paris Saint-Germain          french ligue 1   \n",
              "1         72          73.0  Paris Saint-Germain          french ligue 1   \n",
              "2         72          73.0  Paris Saint-Germain          french ligue 1   \n",
              "3         81          21.0    FC Bayern München    german 1. bundesliga   \n",
              "4         83          11.0    Manchester United  english premier league   \n",
              "\n",
              "   league_level  \n",
              "0           1.0  \n",
              "1           1.0  \n",
              "2           1.0  \n",
              "3           1.0  \n",
              "4           1.0  "
            ],
            "text/html": [
              "\n",
              "  <div id=\"df-59aefa7f-f358-489c-bba7-c13acaaf8aad\" class=\"colab-df-container\">\n",
              "    <div>\n",
              "<style scoped>\n",
              "    .dataframe tbody tr th:only-of-type {\n",
              "        vertical-align: middle;\n",
              "    }\n",
              "\n",
              "    .dataframe tbody tr th {\n",
              "        vertical-align: top;\n",
              "    }\n",
              "\n",
              "    .dataframe thead th {\n",
              "        text-align: right;\n",
              "    }\n",
              "</style>\n",
              "<table border=\"1\" class=\"dataframe\">\n",
              "  <thead>\n",
              "    <tr style=\"text-align: right;\">\n",
              "      <th></th>\n",
              "      <th>sofifa_id</th>\n",
              "      <th>player_url</th>\n",
              "      <th>short_name</th>\n",
              "      <th>long_name</th>\n",
              "      <th>player_positions</th>\n",
              "      <th>overall</th>\n",
              "      <th>potential</th>\n",
              "      <th>value_eur</th>\n",
              "      <th>wage_eur</th>\n",
              "      <th>age</th>\n",
              "      <th>dob</th>\n",
              "      <th>height_cm</th>\n",
              "      <th>weight_kg</th>\n",
              "      <th>club_team_id</th>\n",
              "      <th>club_name</th>\n",
              "      <th>league_name</th>\n",
              "      <th>league_level</th>\n",
              "    </tr>\n",
              "  </thead>\n",
              "  <tbody>\n",
              "    <tr>\n",
              "      <th>0</th>\n",
              "      <td>158023</td>\n",
              "      <td>https://sofifa.com/player/158023/lionel-messi/...</td>\n",
              "      <td>L. Messi</td>\n",
              "      <td>Lionel Andrés Messi Cuccittini</td>\n",
              "      <td>RW</td>\n",
              "      <td>93</td>\n",
              "      <td>93</td>\n",
              "      <td>78000000.0</td>\n",
              "      <td>320000.0</td>\n",
              "      <td>34</td>\n",
              "      <td>1987-06-24</td>\n",
              "      <td>170</td>\n",
              "      <td>72</td>\n",
              "      <td>73.0</td>\n",
              "      <td>Paris Saint-Germain</td>\n",
              "      <td>french ligue 1</td>\n",
              "      <td>1.0</td>\n",
              "    </tr>\n",
              "    <tr>\n",
              "      <th>1</th>\n",
              "      <td>158023</td>\n",
              "      <td>https://sofifa.com/player/158023/lionel-messi/...</td>\n",
              "      <td>L. Messi</td>\n",
              "      <td>Lionel Andrés Messi Cuccittini</td>\n",
              "      <td>ST</td>\n",
              "      <td>93</td>\n",
              "      <td>93</td>\n",
              "      <td>78000000.0</td>\n",
              "      <td>320000.0</td>\n",
              "      <td>34</td>\n",
              "      <td>1987-06-24</td>\n",
              "      <td>170</td>\n",
              "      <td>72</td>\n",
              "      <td>73.0</td>\n",
              "      <td>Paris Saint-Germain</td>\n",
              "      <td>french ligue 1</td>\n",
              "      <td>1.0</td>\n",
              "    </tr>\n",
              "    <tr>\n",
              "      <th>2</th>\n",
              "      <td>158023</td>\n",
              "      <td>https://sofifa.com/player/158023/lionel-messi/...</td>\n",
              "      <td>L. Messi</td>\n",
              "      <td>Lionel Andrés Messi Cuccittini</td>\n",
              "      <td>CF</td>\n",
              "      <td>93</td>\n",
              "      <td>93</td>\n",
              "      <td>78000000.0</td>\n",
              "      <td>320000.0</td>\n",
              "      <td>34</td>\n",
              "      <td>1987-06-24</td>\n",
              "      <td>170</td>\n",
              "      <td>72</td>\n",
              "      <td>73.0</td>\n",
              "      <td>Paris Saint-Germain</td>\n",
              "      <td>french ligue 1</td>\n",
              "      <td>1.0</td>\n",
              "    </tr>\n",
              "    <tr>\n",
              "      <th>3</th>\n",
              "      <td>188545</td>\n",
              "      <td>https://sofifa.com/player/188545/robert-lewand...</td>\n",
              "      <td>R. Lewandowski</td>\n",
              "      <td>Robert Lewandowski</td>\n",
              "      <td>ST</td>\n",
              "      <td>92</td>\n",
              "      <td>92</td>\n",
              "      <td>119500000.0</td>\n",
              "      <td>270000.0</td>\n",
              "      <td>32</td>\n",
              "      <td>1988-08-21</td>\n",
              "      <td>185</td>\n",
              "      <td>81</td>\n",
              "      <td>21.0</td>\n",
              "      <td>FC Bayern München</td>\n",
              "      <td>german 1. bundesliga</td>\n",
              "      <td>1.0</td>\n",
              "    </tr>\n",
              "    <tr>\n",
              "      <th>4</th>\n",
              "      <td>20801</td>\n",
              "      <td>https://sofifa.com/player/20801/c-ronaldo-dos-...</td>\n",
              "      <td>Cristiano Ronaldo</td>\n",
              "      <td>Cristiano Ronaldo dos Santos Aveiro</td>\n",
              "      <td>ST</td>\n",
              "      <td>91</td>\n",
              "      <td>91</td>\n",
              "      <td>45000000.0</td>\n",
              "      <td>270000.0</td>\n",
              "      <td>36</td>\n",
              "      <td>1985-02-05</td>\n",
              "      <td>187</td>\n",
              "      <td>83</td>\n",
              "      <td>11.0</td>\n",
              "      <td>Manchester United</td>\n",
              "      <td>english premier league</td>\n",
              "      <td>1.0</td>\n",
              "    </tr>\n",
              "  </tbody>\n",
              "</table>\n",
              "</div>\n",
              "    <div class=\"colab-df-buttons\">\n",
              "\n",
              "  <div class=\"colab-df-container\">\n",
              "    <button class=\"colab-df-convert\" onclick=\"convertToInteractive('df-59aefa7f-f358-489c-bba7-c13acaaf8aad')\"\n",
              "            title=\"Convert this dataframe to an interactive table.\"\n",
              "            style=\"display:none;\">\n",
              "\n",
              "  <svg xmlns=\"http://www.w3.org/2000/svg\" height=\"24px\" viewBox=\"0 -960 960 960\">\n",
              "    <path d=\"M120-120v-720h720v720H120Zm60-500h600v-160H180v160Zm220 220h160v-160H400v160Zm0 220h160v-160H400v160ZM180-400h160v-160H180v160Zm440 0h160v-160H620v160ZM180-180h160v-160H180v160Zm440 0h160v-160H620v160Z\"/>\n",
              "  </svg>\n",
              "    </button>\n",
              "\n",
              "  <style>\n",
              "    .colab-df-container {\n",
              "      display:flex;\n",
              "      gap: 12px;\n",
              "    }\n",
              "\n",
              "    .colab-df-convert {\n",
              "      background-color: #E8F0FE;\n",
              "      border: none;\n",
              "      border-radius: 50%;\n",
              "      cursor: pointer;\n",
              "      display: none;\n",
              "      fill: #1967D2;\n",
              "      height: 32px;\n",
              "      padding: 0 0 0 0;\n",
              "      width: 32px;\n",
              "    }\n",
              "\n",
              "    .colab-df-convert:hover {\n",
              "      background-color: #E2EBFA;\n",
              "      box-shadow: 0px 1px 2px rgba(60, 64, 67, 0.3), 0px 1px 3px 1px rgba(60, 64, 67, 0.15);\n",
              "      fill: #174EA6;\n",
              "    }\n",
              "\n",
              "    .colab-df-buttons div {\n",
              "      margin-bottom: 4px;\n",
              "    }\n",
              "\n",
              "    [theme=dark] .colab-df-convert {\n",
              "      background-color: #3B4455;\n",
              "      fill: #D2E3FC;\n",
              "    }\n",
              "\n",
              "    [theme=dark] .colab-df-convert:hover {\n",
              "      background-color: #434B5C;\n",
              "      box-shadow: 0px 1px 3px 1px rgba(0, 0, 0, 0.15);\n",
              "      filter: drop-shadow(0px 1px 2px rgba(0, 0, 0, 0.3));\n",
              "      fill: #FFFFFF;\n",
              "    }\n",
              "  </style>\n",
              "\n",
              "    <script>\n",
              "      const buttonEl =\n",
              "        document.querySelector('#df-59aefa7f-f358-489c-bba7-c13acaaf8aad button.colab-df-convert');\n",
              "      buttonEl.style.display =\n",
              "        google.colab.kernel.accessAllowed ? 'block' : 'none';\n",
              "\n",
              "      async function convertToInteractive(key) {\n",
              "        const element = document.querySelector('#df-59aefa7f-f358-489c-bba7-c13acaaf8aad');\n",
              "        const dataTable =\n",
              "          await google.colab.kernel.invokeFunction('convertToInteractive',\n",
              "                                                    [key], {});\n",
              "        if (!dataTable) return;\n",
              "\n",
              "        const docLinkHtml = 'Like what you see? Visit the ' +\n",
              "          '<a target=\"_blank\" href=https://colab.research.google.com/notebooks/data_table.ipynb>data table notebook</a>'\n",
              "          + ' to learn more about interactive tables.';\n",
              "        element.innerHTML = '';\n",
              "        dataTable['output_type'] = 'display_data';\n",
              "        await google.colab.output.renderOutput(dataTable, element);\n",
              "        const docLink = document.createElement('div');\n",
              "        docLink.innerHTML = docLinkHtml;\n",
              "        element.appendChild(docLink);\n",
              "      }\n",
              "    </script>\n",
              "  </div>\n",
              "\n",
              "\n",
              "<div id=\"df-669fbdd3-1c8a-4f69-bb6e-41055f6c1000\">\n",
              "  <button class=\"colab-df-quickchart\" onclick=\"quickchart('df-669fbdd3-1c8a-4f69-bb6e-41055f6c1000')\"\n",
              "            title=\"Suggest charts\"\n",
              "            style=\"display:none;\">\n",
              "\n",
              "<svg xmlns=\"http://www.w3.org/2000/svg\" height=\"24px\"viewBox=\"0 0 24 24\"\n",
              "     width=\"24px\">\n",
              "    <g>\n",
              "        <path d=\"M19 3H5c-1.1 0-2 .9-2 2v14c0 1.1.9 2 2 2h14c1.1 0 2-.9 2-2V5c0-1.1-.9-2-2-2zM9 17H7v-7h2v7zm4 0h-2V7h2v10zm4 0h-2v-4h2v4z\"/>\n",
              "    </g>\n",
              "</svg>\n",
              "  </button>\n",
              "\n",
              "<style>\n",
              "  .colab-df-quickchart {\n",
              "      --bg-color: #E8F0FE;\n",
              "      --fill-color: #1967D2;\n",
              "      --hover-bg-color: #E2EBFA;\n",
              "      --hover-fill-color: #174EA6;\n",
              "      --disabled-fill-color: #AAA;\n",
              "      --disabled-bg-color: #DDD;\n",
              "  }\n",
              "\n",
              "  [theme=dark] .colab-df-quickchart {\n",
              "      --bg-color: #3B4455;\n",
              "      --fill-color: #D2E3FC;\n",
              "      --hover-bg-color: #434B5C;\n",
              "      --hover-fill-color: #FFFFFF;\n",
              "      --disabled-bg-color: #3B4455;\n",
              "      --disabled-fill-color: #666;\n",
              "  }\n",
              "\n",
              "  .colab-df-quickchart {\n",
              "    background-color: var(--bg-color);\n",
              "    border: none;\n",
              "    border-radius: 50%;\n",
              "    cursor: pointer;\n",
              "    display: none;\n",
              "    fill: var(--fill-color);\n",
              "    height: 32px;\n",
              "    padding: 0;\n",
              "    width: 32px;\n",
              "  }\n",
              "\n",
              "  .colab-df-quickchart:hover {\n",
              "    background-color: var(--hover-bg-color);\n",
              "    box-shadow: 0 1px 2px rgba(60, 64, 67, 0.3), 0 1px 3px 1px rgba(60, 64, 67, 0.15);\n",
              "    fill: var(--button-hover-fill-color);\n",
              "  }\n",
              "\n",
              "  .colab-df-quickchart-complete:disabled,\n",
              "  .colab-df-quickchart-complete:disabled:hover {\n",
              "    background-color: var(--disabled-bg-color);\n",
              "    fill: var(--disabled-fill-color);\n",
              "    box-shadow: none;\n",
              "  }\n",
              "\n",
              "  .colab-df-spinner {\n",
              "    border: 2px solid var(--fill-color);\n",
              "    border-color: transparent;\n",
              "    border-bottom-color: var(--fill-color);\n",
              "    animation:\n",
              "      spin 1s steps(1) infinite;\n",
              "  }\n",
              "\n",
              "  @keyframes spin {\n",
              "    0% {\n",
              "      border-color: transparent;\n",
              "      border-bottom-color: var(--fill-color);\n",
              "      border-left-color: var(--fill-color);\n",
              "    }\n",
              "    20% {\n",
              "      border-color: transparent;\n",
              "      border-left-color: var(--fill-color);\n",
              "      border-top-color: var(--fill-color);\n",
              "    }\n",
              "    30% {\n",
              "      border-color: transparent;\n",
              "      border-left-color: var(--fill-color);\n",
              "      border-top-color: var(--fill-color);\n",
              "      border-right-color: var(--fill-color);\n",
              "    }\n",
              "    40% {\n",
              "      border-color: transparent;\n",
              "      border-right-color: var(--fill-color);\n",
              "      border-top-color: var(--fill-color);\n",
              "    }\n",
              "    60% {\n",
              "      border-color: transparent;\n",
              "      border-right-color: var(--fill-color);\n",
              "    }\n",
              "    80% {\n",
              "      border-color: transparent;\n",
              "      border-right-color: var(--fill-color);\n",
              "      border-bottom-color: var(--fill-color);\n",
              "    }\n",
              "    90% {\n",
              "      border-color: transparent;\n",
              "      border-bottom-color: var(--fill-color);\n",
              "    }\n",
              "  }\n",
              "</style>\n",
              "\n",
              "  <script>\n",
              "    async function quickchart(key) {\n",
              "      const quickchartButtonEl =\n",
              "        document.querySelector('#' + key + ' button');\n",
              "      quickchartButtonEl.disabled = true;  // To prevent multiple clicks.\n",
              "      quickchartButtonEl.classList.add('colab-df-spinner');\n",
              "      try {\n",
              "        const charts = await google.colab.kernel.invokeFunction(\n",
              "            'suggestCharts', [key], {});\n",
              "      } catch (error) {\n",
              "        console.error('Error during call to suggestCharts:', error);\n",
              "      }\n",
              "      quickchartButtonEl.classList.remove('colab-df-spinner');\n",
              "      quickchartButtonEl.classList.add('colab-df-quickchart-complete');\n",
              "    }\n",
              "    (() => {\n",
              "      let quickchartButtonEl =\n",
              "        document.querySelector('#df-669fbdd3-1c8a-4f69-bb6e-41055f6c1000 button');\n",
              "      quickchartButtonEl.style.display =\n",
              "        google.colab.kernel.accessAllowed ? 'block' : 'none';\n",
              "    })();\n",
              "  </script>\n",
              "</div>\n",
              "\n",
              "    </div>\n",
              "  </div>\n"
            ],
            "application/vnd.google.colaboratory.intrinsic+json": {
              "type": "dataframe",
              "variable_name": "df3",
              "summary": "{\n  \"name\": \"df3\",\n  \"rows\": 31836,\n  \"fields\": [\n    {\n      \"column\": \"sofifa_id\",\n      \"properties\": {\n        \"dtype\": \"number\",\n        \"std\": 26081,\n        \"min\": 41,\n        \"max\": 264640,\n        \"num_unique_values\": 19172,\n        \"samples\": [\n          208776,\n          209315,\n          214979\n        ],\n        \"semantic_type\": \"\",\n        \"description\": \"\"\n      }\n    },\n    {\n      \"column\": \"player_url\",\n      \"properties\": {\n        \"dtype\": \"string\",\n        \"num_unique_values\": 19172,\n        \"samples\": [\n          \"https://sofifa.com/player/208776/florian-stritzel/220002\",\n          \"https://sofifa.com/player/209315/dan-butler/220002\",\n          \"https://sofifa.com/player/214979/juan-musso/220002\"\n        ],\n        \"semantic_type\": \"\",\n        \"description\": \"\"\n      }\n    },\n    {\n      \"column\": \"short_name\",\n      \"properties\": {\n        \"dtype\": \"string\",\n        \"num_unique_values\": 18084,\n        \"samples\": [\n          \"Ricard Pujol\",\n          \"W. Smith\",\n          \"S. Hutchinson\"\n        ],\n        \"semantic_type\": \"\",\n        \"description\": \"\"\n      }\n    },\n    {\n      \"column\": \"long_name\",\n      \"properties\": {\n        \"dtype\": \"string\",\n        \"num_unique_values\": 19155,\n        \"samples\": [\n          \"\\u9ad9\\u4e18 \\u967d\\u5e73\",\n          \"Jesper Granlund\",\n          \"Juan Agust\\u00edn Musso\"\n        ],\n        \"semantic_type\": \"\",\n        \"description\": \"\"\n      }\n    },\n    {\n      \"column\": \"player_positions\",\n      \"properties\": {\n        \"dtype\": \"category\",\n        \"num_unique_values\": 15,\n        \"samples\": [\n          \"CB\",\n          \"RM\",\n          \"RW\"\n        ],\n        \"semantic_type\": \"\",\n        \"description\": \"\"\n      }\n    },\n    {\n      \"column\": \"overall\",\n      \"properties\": {\n        \"dtype\": \"number\",\n        \"std\": 6,\n        \"min\": 47,\n        \"max\": 93,\n        \"num_unique_values\": 47,\n        \"samples\": [\n          66,\n          54,\n          67\n        ],\n        \"semantic_type\": \"\",\n        \"description\": \"\"\n      }\n    },\n    {\n      \"column\": \"potential\",\n      \"properties\": {\n        \"dtype\": \"number\",\n        \"std\": 6,\n        \"min\": 49,\n        \"max\": 95,\n        \"num_unique_values\": 46,\n        \"samples\": [\n          55,\n          69,\n          68\n        ],\n        \"semantic_type\": \"\",\n        \"description\": \"\"\n      }\n    },\n    {\n      \"column\": \"value_eur\",\n      \"properties\": {\n        \"dtype\": \"number\",\n        \"std\": 7803017.182948031,\n        \"min\": 9000.0,\n        \"max\": 194000000.0,\n        \"num_unique_values\": 253,\n        \"samples\": [\n          750000.0,\n          194000000.0,\n          13000000.0\n        ],\n        \"semantic_type\": \"\",\n        \"description\": \"\"\n      }\n    },\n    {\n      \"column\": \"wage_eur\",\n      \"properties\": {\n        \"dtype\": \"number\",\n        \"std\": 19680.73853441003,\n        \"min\": 500.0,\n        \"max\": 350000.0,\n        \"num_unique_values\": 133,\n        \"samples\": [\n          45000.0,\n          77000.0,\n          73000.0\n        ],\n        \"semantic_type\": \"\",\n        \"description\": \"\"\n      }\n    },\n    {\n      \"column\": \"age\",\n      \"properties\": {\n        \"dtype\": \"number\",\n        \"std\": 4,\n        \"min\": 16,\n        \"max\": 54,\n        \"num_unique_values\": 29,\n        \"samples\": [\n          42,\n          23,\n          20\n        ],\n        \"semantic_type\": \"\",\n        \"description\": \"\"\n      }\n    },\n    {\n      \"column\": \"dob\",\n      \"properties\": {\n        \"dtype\": \"object\",\n        \"num_unique_values\": 6305,\n        \"samples\": [\n          \"1986-01-24\",\n          \"1997-11-14\",\n          \"1992-05-08\"\n        ],\n        \"semantic_type\": \"\",\n        \"description\": \"\"\n      }\n    },\n    {\n      \"column\": \"height_cm\",\n      \"properties\": {\n        \"dtype\": \"number\",\n        \"std\": 6,\n        \"min\": 155,\n        \"max\": 206,\n        \"num_unique_values\": 49,\n        \"samples\": [\n          196,\n          159,\n          206\n        ],\n        \"semantic_type\": \"\",\n        \"description\": \"\"\n      }\n    },\n    {\n      \"column\": \"weight_kg\",\n      \"properties\": {\n        \"dtype\": \"number\",\n        \"std\": 6,\n        \"min\": 49,\n        \"max\": 110,\n        \"num_unique_values\": 58,\n        \"samples\": [\n          72,\n          87,\n          88\n        ],\n        \"semantic_type\": \"\",\n        \"description\": \"\"\n      }\n    },\n    {\n      \"column\": \"club_team_id\",\n      \"properties\": {\n        \"dtype\": \"number\",\n        \"std\": 54410.852053577604,\n        \"min\": 1.0,\n        \"max\": 115820.0,\n        \"num_unique_values\": 701,\n        \"samples\": [\n          563.0,\n          144.0,\n          234.0\n        ],\n        \"semantic_type\": \"\",\n        \"description\": \"\"\n      }\n    },\n    {\n      \"column\": \"club_name\",\n      \"properties\": {\n        \"dtype\": \"category\",\n        \"num_unique_values\": 701,\n        \"samples\": [\n          \"Sligo Rovers\",\n          \"Fulham\",\n          \"SL Benfica\"\n        ],\n        \"semantic_type\": \"\",\n        \"description\": \"\"\n      }\n    },\n    {\n      \"column\": \"league_name\",\n      \"properties\": {\n        \"dtype\": \"category\",\n        \"num_unique_values\": 55,\n        \"samples\": [\n          \"austrian football bundesliga\",\n          \"holland eredivisie\",\n          \"paraguayan primera divisi\\u00f3n\"\n        ],\n        \"semantic_type\": \"\",\n        \"description\": \"\"\n      }\n    },\n    {\n      \"column\": \"league_level\",\n      \"properties\": {\n        \"dtype\": \"number\",\n        \"std\": 0.7300314824962965,\n        \"min\": 1.0,\n        \"max\": 5.0,\n        \"num_unique_values\": 5,\n        \"samples\": [\n          2.0,\n          5.0,\n          3.0\n        ],\n        \"semantic_type\": \"\",\n        \"description\": \"\"\n      }\n    }\n  ]\n}"
            }
          },
          "metadata": {},
          "execution_count": 353
        }
      ]
    },
    {
      "cell_type": "code",
      "source": [
        "# определите количество наблюдений в датафрейме df2\n",
        "len(df3)"
      ],
      "metadata": {
        "id": "4b_igvGD3TjI",
        "colab": {
          "base_uri": "https://localhost:8080/"
        },
        "outputId": "89987677-04b7-49d5-e240-d11da4b6fcda"
      },
      "execution_count": null,
      "outputs": [
        {
          "output_type": "execute_result",
          "data": {
            "text/plain": [
              "31836"
            ]
          },
          "metadata": {},
          "execution_count": 352
        }
      ]
    },
    {
      "cell_type": "code",
      "source": [
        "# сохраните датафрейм df1 в формат xlsx без учета индексного столбца\n",
        "df2.to_excel('players_22_clean.xlsx', index=False)"
      ],
      "metadata": {
        "id": "tmKT4ueR4Rip"
      },
      "execution_count": null,
      "outputs": []
    },
    {
      "cell_type": "code",
      "source": [
        "# сохраните датафрейм df2 в формат csv\n",
        "df3.to_csv('players_22_clean.csv')"
      ],
      "metadata": {
        "id": "4nHFRu3u4yV8"
      },
      "execution_count": null,
      "outputs": []
    }
  ]
}